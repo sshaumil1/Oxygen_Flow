{
 "cells": [
  {
   "cell_type": "code",
   "execution_count": 64,
   "id": "5053a2bf",
   "metadata": {},
   "outputs": [],
   "source": [
    "import pandas as pd\n",
    "import numpy as np\n",
    "import seaborn as sns\n",
    "import matplotlib.pyplot as plt\n",
    "import warnings\n",
    "warnings.filterwarnings(\"ignore\")\n",
    "from sklearn.impute import KNNImputer\n",
    "from scipy import stats\n",
    "from sklearn.preprocessing import StandardScaler\n",
    "from sklearn.feature_selection import mutual_info_regression,f_regression\n",
    "from skfeature.function.similarity_based import fisher_score \n",
    "from sklearn.model_selection import train_test_split,GridSearchCV,RandomizedSearchCV\n",
    "from sklearn.tree import DecisionTreeRegressor\n",
    "from sklearn.linear_model import LinearRegression\n",
    "from sklearn.ensemble import RandomForestRegressor\n",
    "from sklearn.svm import SVR\n",
    "from sklearn.metrics import mean_squared_error,r2_score,mean_absolute_error\n",
    "from sklearn.neighbors import KNeighborsRegressor\n",
    "import json,pickle"
   ]
  },
  {
   "cell_type": "markdown",
   "id": "db5a7128",
   "metadata": {},
   "source": [
    "# 1. Problem Statement"
   ]
  },
  {
   "cell_type": "code",
   "execution_count": 2,
   "id": "6f3d1f80",
   "metadata": {},
   "outputs": [
    {
     "data": {
      "text/plain": [
       "\"Oxygen shortage was one of the prime causes of increasing death cases of Covid \\ninfected patients in India. That's why the client wants to develop a strategy to \\ndeliver oxygen in an efficient way so that it gets utilized to its fullest and \\nsustainably, thus reventing acute shortages of O2.\""
      ]
     },
     "execution_count": 2,
     "metadata": {},
     "output_type": "execute_result"
    }
   ],
   "source": [
    "\"\"\"Oxygen shortage was one of the prime causes of increasing death cases of Covid \n",
    "infected patients in India. That's why the client wants to develop a strategy to \n",
    "deliver oxygen in an efficient way so that it gets utilized to its fullest and \n",
    "sustainably, thus reventing acute shortages of O2.\"\"\"\n",
    "\n",
    "# Predict the oxygen demand for various categories of patients within a given span of time and duration.\n",
    "# (Oxygen demand for patients with acute respiratory syndromes)"
   ]
  },
  {
   "cell_type": "markdown",
   "id": "e482eb34",
   "metadata": {},
   "source": [
    "# 2. Data Gathering & Validation"
   ]
  },
  {
   "cell_type": "code",
   "execution_count": 3,
   "id": "dfe4e4a2",
   "metadata": {},
   "outputs": [
    {
     "data": {
      "text/html": [
       "<div>\n",
       "<style scoped>\n",
       "    .dataframe tbody tr th:only-of-type {\n",
       "        vertical-align: middle;\n",
       "    }\n",
       "\n",
       "    .dataframe tbody tr th {\n",
       "        vertical-align: top;\n",
       "    }\n",
       "\n",
       "    .dataframe thead th {\n",
       "        text-align: right;\n",
       "    }\n",
       "</style>\n",
       "<table border=\"1\" class=\"dataframe\">\n",
       "  <thead>\n",
       "    <tr style=\"text-align: right;\">\n",
       "      <th></th>\n",
       "      <th>age</th>\n",
       "      <th>gender</th>\n",
       "      <th>spo2</th>\n",
       "      <th>pr</th>\n",
       "      <th>c/nc</th>\n",
       "      <th>oxy_flow</th>\n",
       "    </tr>\n",
       "  </thead>\n",
       "  <tbody>\n",
       "    <tr>\n",
       "      <th>95433</th>\n",
       "      <td>79</td>\n",
       "      <td>1</td>\n",
       "      <td>97.0</td>\n",
       "      <td>110.0</td>\n",
       "      <td>1.0</td>\n",
       "      <td>0.0</td>\n",
       "    </tr>\n",
       "    <tr>\n",
       "      <th>4575</th>\n",
       "      <td>17</td>\n",
       "      <td>0</td>\n",
       "      <td>NaN</td>\n",
       "      <td>54.0</td>\n",
       "      <td>1.0</td>\n",
       "      <td>29.0</td>\n",
       "    </tr>\n",
       "    <tr>\n",
       "      <th>124923</th>\n",
       "      <td>17</td>\n",
       "      <td>0</td>\n",
       "      <td>NaN</td>\n",
       "      <td>49.0</td>\n",
       "      <td>1.0</td>\n",
       "      <td>6.0</td>\n",
       "    </tr>\n",
       "    <tr>\n",
       "      <th>64585</th>\n",
       "      <td>41</td>\n",
       "      <td>0</td>\n",
       "      <td>99.0</td>\n",
       "      <td>108.0</td>\n",
       "      <td>1.0</td>\n",
       "      <td>76.0</td>\n",
       "    </tr>\n",
       "    <tr>\n",
       "      <th>99308</th>\n",
       "      <td>70</td>\n",
       "      <td>0</td>\n",
       "      <td>81.0</td>\n",
       "      <td>104.0</td>\n",
       "      <td>1.0</td>\n",
       "      <td>0.0</td>\n",
       "    </tr>\n",
       "  </tbody>\n",
       "</table>\n",
       "</div>"
      ],
      "text/plain": [
       "        age  gender  spo2     pr  c/nc  oxy_flow\n",
       "95433    79       1  97.0  110.0   1.0       0.0\n",
       "4575     17       0   NaN   54.0   1.0      29.0\n",
       "124923   17       0   NaN   49.0   1.0       6.0\n",
       "64585    41       0  99.0  108.0   1.0      76.0\n",
       "99308    70       0  81.0  104.0   1.0       0.0"
      ]
     },
     "execution_count": 3,
     "metadata": {},
     "output_type": "execute_result"
    }
   ],
   "source": [
    "df = pd.read_csv(\"Oxygen_demand.csv\").sample(5000)\n",
    "df.head()"
   ]
  },
  {
   "cell_type": "code",
   "execution_count": 4,
   "id": "b0242a80",
   "metadata": {},
   "outputs": [],
   "source": [
    "# Feature information\n",
    "\n",
    "# age: The exact age of the patient concerned(in year)\n",
    "# gender: gender of patient concerned (0 for female and 1 for male)\n",
    "# spo2: The instantaneous oxygen saturation percentage of the patient concerned\n",
    "# pr: The instantaneous pulse rate of the patient concerned\n",
    "# c/nc: A categorical data categorizing the patient as infected with SARS (positive(1.0)/negative(0.0))\n",
    "\n",
    "# Oxygen Flow: Doctor-prescribed instantaneous oxygen flow concentration of the patient concerned (Target variable)\n"
   ]
  },
  {
   "cell_type": "markdown",
   "id": "fd828fdd",
   "metadata": {},
   "source": [
    "# 3. EDA"
   ]
  },
  {
   "cell_type": "code",
   "execution_count": 5,
   "id": "9096233f",
   "metadata": {},
   "outputs": [
    {
     "data": {
      "text/html": [
       "<div>\n",
       "<style scoped>\n",
       "    .dataframe tbody tr th:only-of-type {\n",
       "        vertical-align: middle;\n",
       "    }\n",
       "\n",
       "    .dataframe tbody tr th {\n",
       "        vertical-align: top;\n",
       "    }\n",
       "\n",
       "    .dataframe thead th {\n",
       "        text-align: right;\n",
       "    }\n",
       "</style>\n",
       "<table border=\"1\" class=\"dataframe\">\n",
       "  <thead>\n",
       "    <tr style=\"text-align: right;\">\n",
       "      <th></th>\n",
       "      <th>age</th>\n",
       "      <th>spo2</th>\n",
       "      <th>pr</th>\n",
       "      <th>oxy_flow</th>\n",
       "    </tr>\n",
       "  </thead>\n",
       "  <tbody>\n",
       "    <tr>\n",
       "      <th>count</th>\n",
       "      <td>5000.00000</td>\n",
       "      <td>4305.000000</td>\n",
       "      <td>4158.000000</td>\n",
       "      <td>5000.000000</td>\n",
       "    </tr>\n",
       "    <tr>\n",
       "      <th>mean</th>\n",
       "      <td>46.32620</td>\n",
       "      <td>88.521719</td>\n",
       "      <td>92.516354</td>\n",
       "      <td>18.817000</td>\n",
       "    </tr>\n",
       "    <tr>\n",
       "      <th>std</th>\n",
       "      <td>21.30159</td>\n",
       "      <td>15.436254</td>\n",
       "      <td>15.944654</td>\n",
       "      <td>17.828008</td>\n",
       "    </tr>\n",
       "    <tr>\n",
       "      <th>min</th>\n",
       "      <td>17.00000</td>\n",
       "      <td>35.000000</td>\n",
       "      <td>40.000000</td>\n",
       "      <td>0.000000</td>\n",
       "    </tr>\n",
       "    <tr>\n",
       "      <th>25%</th>\n",
       "      <td>29.00000</td>\n",
       "      <td>83.000000</td>\n",
       "      <td>82.000000</td>\n",
       "      <td>7.000000</td>\n",
       "    </tr>\n",
       "    <tr>\n",
       "      <th>50%</th>\n",
       "      <td>43.00000</td>\n",
       "      <td>97.000000</td>\n",
       "      <td>95.000000</td>\n",
       "      <td>16.000000</td>\n",
       "    </tr>\n",
       "    <tr>\n",
       "      <th>75%</th>\n",
       "      <td>61.00000</td>\n",
       "      <td>99.000000</td>\n",
       "      <td>107.000000</td>\n",
       "      <td>25.000000</td>\n",
       "    </tr>\n",
       "    <tr>\n",
       "      <th>max</th>\n",
       "      <td>100.00000</td>\n",
       "      <td>99.000000</td>\n",
       "      <td>110.000000</td>\n",
       "      <td>76.000000</td>\n",
       "    </tr>\n",
       "  </tbody>\n",
       "</table>\n",
       "</div>"
      ],
      "text/plain": [
       "              age         spo2           pr     oxy_flow\n",
       "count  5000.00000  4305.000000  4158.000000  5000.000000\n",
       "mean     46.32620    88.521719    92.516354    18.817000\n",
       "std      21.30159    15.436254    15.944654    17.828008\n",
       "min      17.00000    35.000000    40.000000     0.000000\n",
       "25%      29.00000    83.000000    82.000000     7.000000\n",
       "50%      43.00000    97.000000    95.000000    16.000000\n",
       "75%      61.00000    99.000000   107.000000    25.000000\n",
       "max     100.00000    99.000000   110.000000    76.000000"
      ]
     },
     "execution_count": 5,
     "metadata": {},
     "output_type": "execute_result"
    }
   ],
   "source": [
    "df.describe().drop([\"gender\",\"c/nc\"], axis = 1) # All the stats of the data (except gender & c/nc: categorical)"
   ]
  },
  {
   "cell_type": "code",
   "execution_count": 6,
   "id": "71ea1527",
   "metadata": {},
   "outputs": [
    {
     "name": "stdout",
     "output_type": "stream",
     "text": [
      "<class 'pandas.core.frame.DataFrame'>\n",
      "Int64Index: 5000 entries, 95433 to 121780\n",
      "Data columns (total 6 columns):\n",
      " #   Column    Non-Null Count  Dtype  \n",
      "---  ------    --------------  -----  \n",
      " 0   age       5000 non-null   int64  \n",
      " 1   gender    5000 non-null   int64  \n",
      " 2   spo2      4305 non-null   float64\n",
      " 3   pr        4158 non-null   float64\n",
      " 4   c/nc      5000 non-null   float64\n",
      " 5   oxy_flow  5000 non-null   float64\n",
      "dtypes: float64(4), int64(2)\n",
      "memory usage: 273.4 KB\n"
     ]
    }
   ],
   "source": [
    "df.info() # information of the featuers"
   ]
  },
  {
   "cell_type": "code",
   "execution_count": 7,
   "id": "8584fa06",
   "metadata": {},
   "outputs": [
    {
     "data": {
      "text/plain": [
       "age         0.0000\n",
       "gender      0.0000\n",
       "spo2        0.3475\n",
       "pr          0.4210\n",
       "c/nc        0.0000\n",
       "oxy_flow    0.0000\n",
       "dtype: float64"
      ]
     },
     "execution_count": 7,
     "metadata": {},
     "output_type": "execute_result"
    }
   ],
   "source": [
    "(df.isna().sum()/200000)*100 # checking for % null values"
   ]
  },
  {
   "cell_type": "code",
   "execution_count": 8,
   "id": "725b4b70",
   "metadata": {},
   "outputs": [
    {
     "name": "stdout",
     "output_type": "stream",
     "text": [
      "unique values of age:: 84\n",
      "unique values of gender:: 2\n",
      "unique values of spo2:: 65\n",
      "unique values of pr:: 70\n",
      "unique values of c/nc:: 2\n",
      "unique values of oxy_flow:: 77\n"
     ]
    }
   ],
   "source": [
    "#cheking for unique values\n",
    "for i in df.columns:\n",
    "    print(f\"unique values of {i}:: {df[i].nunique()}\")"
   ]
  },
  {
   "cell_type": "code",
   "execution_count": 9,
   "id": "ef6c6afb",
   "metadata": {},
   "outputs": [
    {
     "data": {
      "text/plain": [
       "<AxesSubplot:title={'center':'pr distribution'}, ylabel='Density'>"
      ]
     },
     "execution_count": 9,
     "metadata": {},
     "output_type": "execute_result"
    },
    {
     "data": {
      "image/png": "[encoded data removed]",
      "text/plain": [
       "<Figure size 1440x360 with 3 Axes>"
      ]
     },
     "metadata": {
      "needs_background": "light"
     },
     "output_type": "display_data"
    }
   ],
   "source": [
    "# checking the distribution of the data\n",
    "fig, axes = plt.subplots(1, 3, figsize=(20,5))\n",
    "df.age.plot(kind = \"kde\",ax = axes[0],title =\"Age distribution\" ) \n",
    "df.spo2.plot(kind = \"kde\",ax = axes[1],color = \"aqua\", title = \"spo2 distribution\")\n",
    "df.pr.plot(kind =\"kde\",ax = axes[2],color = \"mediumorchid\", title = \"pr distribution\")"
   ]
  },
  {
   "cell_type": "code",
   "execution_count": 10,
   "id": "101f8213",
   "metadata": {},
   "outputs": [
    {
     "data": {
      "text/html": [
       "<div>\n",
       "<style scoped>\n",
       "    .dataframe tbody tr th:only-of-type {\n",
       "        vertical-align: middle;\n",
       "    }\n",
       "\n",
       "    .dataframe tbody tr th {\n",
       "        vertical-align: top;\n",
       "    }\n",
       "\n",
       "    .dataframe thead th {\n",
       "        text-align: right;\n",
       "    }\n",
       "</style>\n",
       "<table border=\"1\" class=\"dataframe\">\n",
       "  <thead>\n",
       "    <tr style=\"text-align: right;\">\n",
       "      <th>gender</th>\n",
       "      <th>0</th>\n",
       "      <th>1</th>\n",
       "    </tr>\n",
       "    <tr>\n",
       "      <th>c/nc</th>\n",
       "      <th></th>\n",
       "      <th></th>\n",
       "    </tr>\n",
       "  </thead>\n",
       "  <tbody>\n",
       "    <tr>\n",
       "      <th>0.0</th>\n",
       "      <td>44.789165</td>\n",
       "      <td>44.446281</td>\n",
       "    </tr>\n",
       "    <tr>\n",
       "      <th>1.0</th>\n",
       "      <td>47.231973</td>\n",
       "      <td>45.844711</td>\n",
       "    </tr>\n",
       "  </tbody>\n",
       "</table>\n",
       "</div>"
      ],
      "text/plain": [
       "gender          0          1\n",
       "c/nc                        \n",
       "0.0     44.789165  44.446281\n",
       "1.0     47.231973  45.844711"
      ]
     },
     "execution_count": 10,
     "metadata": {},
     "output_type": "execute_result"
    }
   ],
   "source": [
    "# checking in which gender the infected and disinfect patient with SARS needs how much avg age\n",
    "df.pivot_table(index = \"c/nc\", columns = \"gender\", values = \"age\"  )"
   ]
  },
  {
   "cell_type": "code",
   "execution_count": 11,
   "id": "045f9a94",
   "metadata": {},
   "outputs": [
    {
     "data": {
      "text/plain": [
       "gender\n",
       "0    46.726998\n",
       "1    45.545401\n",
       "Name: age, dtype: float64"
      ]
     },
     "execution_count": 11,
     "metadata": {},
     "output_type": "execute_result"
    }
   ],
   "source": [
    "# avg age in each gender\n",
    "df.groupby(\"gender\").mean()[\"age\"]"
   ]
  },
  {
   "cell_type": "code",
   "execution_count": 12,
   "id": "1e5ccadd",
   "metadata": {},
   "outputs": [
    {
     "data": {
      "text/plain": [
       "gender  c/nc\n",
       "0       0.0     44.789165\n",
       "        1.0     47.231973\n",
       "1       0.0     44.446281\n",
       "        1.0     45.844711\n",
       "Name: age, dtype: float64"
      ]
     },
     "execution_count": 12,
     "metadata": {},
     "output_type": "execute_result"
    }
   ],
   "source": [
    "# avg age of infected and disinfect patient with SARS in each gender\n",
    "df.groupby([\"gender\",\"c/nc\"]).mean()[\"age\"]"
   ]
  },
  {
   "cell_type": "code",
   "execution_count": 13,
   "id": "6ec631de",
   "metadata": {},
   "outputs": [
    {
     "data": {
      "text/plain": [
       "<AxesSubplot:ylabel='age'>"
      ]
     },
     "execution_count": 13,
     "metadata": {},
     "output_type": "execute_result"
    },
    {
     "data": {
      "image/png": "[encoded data removed]",
      "text/plain": [
       "<Figure size 432x288 with 1 Axes>"
      ]
     },
     "metadata": {},
     "output_type": "display_data"
    }
   ],
   "source": [
    "# bar graph of avg age of infected and disinfect patient with SARS in each gender\n",
    "df.groupby([\"gender\",\"c/nc\"]).mean()[\"age\"].plot(kind ='pie')"
   ]
  },
  {
   "cell_type": "code",
   "execution_count": 14,
   "id": "686cd348",
   "metadata": {},
   "outputs": [
    {
     "data": {
      "text/plain": [
       "gender\n",
       "0    61227.0\n",
       "1    32858.0\n",
       "Name: oxy_flow, dtype: float64"
      ]
     },
     "execution_count": 14,
     "metadata": {},
     "output_type": "execute_result"
    }
   ],
   "source": [
    "# cheking either male or female needs more oxygen\n",
    "df.groupby(\"gender\").sum()['oxy_flow']"
   ]
  },
  {
   "cell_type": "code",
   "execution_count": 15,
   "id": "75d45c55",
   "metadata": {},
   "outputs": [
    {
     "data": {
      "text/html": [
       "<div>\n",
       "<style scoped>\n",
       "    .dataframe tbody tr th:only-of-type {\n",
       "        vertical-align: middle;\n",
       "    }\n",
       "\n",
       "    .dataframe tbody tr th {\n",
       "        vertical-align: top;\n",
       "    }\n",
       "\n",
       "    .dataframe thead th {\n",
       "        text-align: right;\n",
       "    }\n",
       "</style>\n",
       "<table border=\"1\" class=\"dataframe\">\n",
       "  <thead>\n",
       "    <tr style=\"text-align: right;\">\n",
       "      <th></th>\n",
       "      <th>mean</th>\n",
       "      <th>sum</th>\n",
       "    </tr>\n",
       "    <tr>\n",
       "      <th>c/nc</th>\n",
       "      <th></th>\n",
       "      <th></th>\n",
       "    </tr>\n",
       "  </thead>\n",
       "  <tbody>\n",
       "    <tr>\n",
       "      <th>0.0</th>\n",
       "      <td>19.437859</td>\n",
       "      <td>20332.0</td>\n",
       "    </tr>\n",
       "    <tr>\n",
       "      <th>1.0</th>\n",
       "      <td>18.652757</td>\n",
       "      <td>73753.0</td>\n",
       "    </tr>\n",
       "  </tbody>\n",
       "</table>\n",
       "</div>"
      ],
      "text/plain": [
       "           mean      sum\n",
       "c/nc                    \n",
       "0.0   19.437859  20332.0\n",
       "1.0   18.652757  73753.0"
      ]
     },
     "execution_count": 15,
     "metadata": {},
     "output_type": "execute_result"
    }
   ],
   "source": [
    "# total oxygen, and avg oxygen flow in each category who is infected and \n",
    "# disinfacted with Severe acute respiratory syndrome (SARS)\n",
    "df.groupby(\"c/nc\")[\"oxy_flow\"].agg([\"mean\",\"sum\"])"
   ]
  },
  {
   "cell_type": "code",
   "execution_count": 16,
   "id": "c9508cce",
   "metadata": {},
   "outputs": [
    {
     "data": {
      "text/plain": [
       "<AxesSubplot:xlabel='gender', ylabel='age'>"
      ]
     },
     "execution_count": 16,
     "metadata": {},
     "output_type": "execute_result"
    },
    {
     "data": {
      "image/png": "[encoded data removed]",
      "text/plain": [
       "<Figure size 432x288 with 1 Axes>"
      ]
     },
     "metadata": {
      "needs_background": "light"
     },
     "output_type": "display_data"
    }
   ],
   "source": [
    "# bar plot of ages in each sars infected and disinfacted males and feamales\n",
    "sns.barplot(x = \"gender\", y = \"age\",hue = \"c/nc\", data = df)"
   ]
  },
  {
   "cell_type": "code",
   "execution_count": 17,
   "id": "4d7e0d30",
   "metadata": {},
   "outputs": [
    {
     "data": {
      "text/html": [
       "<div>\n",
       "<style scoped>\n",
       "    .dataframe tbody tr th:only-of-type {\n",
       "        vertical-align: middle;\n",
       "    }\n",
       "\n",
       "    .dataframe tbody tr th {\n",
       "        vertical-align: top;\n",
       "    }\n",
       "\n",
       "    .dataframe thead tr th {\n",
       "        text-align: left;\n",
       "    }\n",
       "\n",
       "    .dataframe thead tr:last-of-type th {\n",
       "        text-align: right;\n",
       "    }\n",
       "</style>\n",
       "<table border=\"1\" class=\"dataframe\">\n",
       "  <thead>\n",
       "    <tr>\n",
       "      <th>gender</th>\n",
       "      <th colspan=\"10\" halign=\"left\">0</th>\n",
       "      <th>...</th>\n",
       "      <th colspan=\"10\" halign=\"left\">1</th>\n",
       "    </tr>\n",
       "    <tr>\n",
       "      <th>oxy_flow</th>\n",
       "      <th>0.0</th>\n",
       "      <th>1.0</th>\n",
       "      <th>2.0</th>\n",
       "      <th>3.0</th>\n",
       "      <th>4.0</th>\n",
       "      <th>5.0</th>\n",
       "      <th>6.0</th>\n",
       "      <th>7.0</th>\n",
       "      <th>8.0</th>\n",
       "      <th>9.0</th>\n",
       "      <th>...</th>\n",
       "      <th>67.0</th>\n",
       "      <th>68.0</th>\n",
       "      <th>69.0</th>\n",
       "      <th>70.0</th>\n",
       "      <th>71.0</th>\n",
       "      <th>72.0</th>\n",
       "      <th>73.0</th>\n",
       "      <th>74.0</th>\n",
       "      <th>75.0</th>\n",
       "      <th>76.0</th>\n",
       "    </tr>\n",
       "    <tr>\n",
       "      <th>age</th>\n",
       "      <th></th>\n",
       "      <th></th>\n",
       "      <th></th>\n",
       "      <th></th>\n",
       "      <th></th>\n",
       "      <th></th>\n",
       "      <th></th>\n",
       "      <th></th>\n",
       "      <th></th>\n",
       "      <th></th>\n",
       "      <th></th>\n",
       "      <th></th>\n",
       "      <th></th>\n",
       "      <th></th>\n",
       "      <th></th>\n",
       "      <th></th>\n",
       "      <th></th>\n",
       "      <th></th>\n",
       "      <th></th>\n",
       "      <th></th>\n",
       "      <th></th>\n",
       "    </tr>\n",
       "  </thead>\n",
       "  <tbody>\n",
       "    <tr>\n",
       "      <th>17</th>\n",
       "      <td>24</td>\n",
       "      <td>2</td>\n",
       "      <td>7</td>\n",
       "      <td>4</td>\n",
       "      <td>5</td>\n",
       "      <td>6</td>\n",
       "      <td>8</td>\n",
       "      <td>4</td>\n",
       "      <td>9</td>\n",
       "      <td>7</td>\n",
       "      <td>...</td>\n",
       "      <td>0</td>\n",
       "      <td>1</td>\n",
       "      <td>0</td>\n",
       "      <td>0</td>\n",
       "      <td>0</td>\n",
       "      <td>0</td>\n",
       "      <td>0</td>\n",
       "      <td>0</td>\n",
       "      <td>0</td>\n",
       "      <td>12</td>\n",
       "    </tr>\n",
       "    <tr>\n",
       "      <th>18</th>\n",
       "      <td>4</td>\n",
       "      <td>0</td>\n",
       "      <td>0</td>\n",
       "      <td>0</td>\n",
       "      <td>0</td>\n",
       "      <td>1</td>\n",
       "      <td>0</td>\n",
       "      <td>0</td>\n",
       "      <td>0</td>\n",
       "      <td>0</td>\n",
       "      <td>...</td>\n",
       "      <td>0</td>\n",
       "      <td>0</td>\n",
       "      <td>0</td>\n",
       "      <td>0</td>\n",
       "      <td>0</td>\n",
       "      <td>0</td>\n",
       "      <td>0</td>\n",
       "      <td>0</td>\n",
       "      <td>0</td>\n",
       "      <td>0</td>\n",
       "    </tr>\n",
       "    <tr>\n",
       "      <th>19</th>\n",
       "      <td>7</td>\n",
       "      <td>1</td>\n",
       "      <td>0</td>\n",
       "      <td>1</td>\n",
       "      <td>0</td>\n",
       "      <td>0</td>\n",
       "      <td>0</td>\n",
       "      <td>1</td>\n",
       "      <td>2</td>\n",
       "      <td>0</td>\n",
       "      <td>...</td>\n",
       "      <td>0</td>\n",
       "      <td>0</td>\n",
       "      <td>0</td>\n",
       "      <td>0</td>\n",
       "      <td>0</td>\n",
       "      <td>0</td>\n",
       "      <td>0</td>\n",
       "      <td>0</td>\n",
       "      <td>0</td>\n",
       "      <td>0</td>\n",
       "    </tr>\n",
       "    <tr>\n",
       "      <th>20</th>\n",
       "      <td>4</td>\n",
       "      <td>0</td>\n",
       "      <td>0</td>\n",
       "      <td>1</td>\n",
       "      <td>1</td>\n",
       "      <td>1</td>\n",
       "      <td>0</td>\n",
       "      <td>1</td>\n",
       "      <td>1</td>\n",
       "      <td>1</td>\n",
       "      <td>...</td>\n",
       "      <td>1</td>\n",
       "      <td>0</td>\n",
       "      <td>0</td>\n",
       "      <td>0</td>\n",
       "      <td>0</td>\n",
       "      <td>0</td>\n",
       "      <td>0</td>\n",
       "      <td>0</td>\n",
       "      <td>0</td>\n",
       "      <td>0</td>\n",
       "    </tr>\n",
       "    <tr>\n",
       "      <th>21</th>\n",
       "      <td>2</td>\n",
       "      <td>1</td>\n",
       "      <td>0</td>\n",
       "      <td>1</td>\n",
       "      <td>0</td>\n",
       "      <td>1</td>\n",
       "      <td>2</td>\n",
       "      <td>0</td>\n",
       "      <td>2</td>\n",
       "      <td>1</td>\n",
       "      <td>...</td>\n",
       "      <td>0</td>\n",
       "      <td>0</td>\n",
       "      <td>0</td>\n",
       "      <td>0</td>\n",
       "      <td>0</td>\n",
       "      <td>0</td>\n",
       "      <td>0</td>\n",
       "      <td>0</td>\n",
       "      <td>0</td>\n",
       "      <td>0</td>\n",
       "    </tr>\n",
       "    <tr>\n",
       "      <th>...</th>\n",
       "      <td>...</td>\n",
       "      <td>...</td>\n",
       "      <td>...</td>\n",
       "      <td>...</td>\n",
       "      <td>...</td>\n",
       "      <td>...</td>\n",
       "      <td>...</td>\n",
       "      <td>...</td>\n",
       "      <td>...</td>\n",
       "      <td>...</td>\n",
       "      <td>...</td>\n",
       "      <td>...</td>\n",
       "      <td>...</td>\n",
       "      <td>...</td>\n",
       "      <td>...</td>\n",
       "      <td>...</td>\n",
       "      <td>...</td>\n",
       "      <td>...</td>\n",
       "      <td>...</td>\n",
       "      <td>...</td>\n",
       "      <td>...</td>\n",
       "    </tr>\n",
       "    <tr>\n",
       "      <th>96</th>\n",
       "      <td>4</td>\n",
       "      <td>0</td>\n",
       "      <td>0</td>\n",
       "      <td>1</td>\n",
       "      <td>0</td>\n",
       "      <td>0</td>\n",
       "      <td>1</td>\n",
       "      <td>0</td>\n",
       "      <td>0</td>\n",
       "      <td>0</td>\n",
       "      <td>...</td>\n",
       "      <td>0</td>\n",
       "      <td>0</td>\n",
       "      <td>0</td>\n",
       "      <td>0</td>\n",
       "      <td>0</td>\n",
       "      <td>0</td>\n",
       "      <td>0</td>\n",
       "      <td>0</td>\n",
       "      <td>0</td>\n",
       "      <td>0</td>\n",
       "    </tr>\n",
       "    <tr>\n",
       "      <th>97</th>\n",
       "      <td>3</td>\n",
       "      <td>0</td>\n",
       "      <td>0</td>\n",
       "      <td>0</td>\n",
       "      <td>0</td>\n",
       "      <td>1</td>\n",
       "      <td>0</td>\n",
       "      <td>1</td>\n",
       "      <td>0</td>\n",
       "      <td>0</td>\n",
       "      <td>...</td>\n",
       "      <td>0</td>\n",
       "      <td>0</td>\n",
       "      <td>0</td>\n",
       "      <td>0</td>\n",
       "      <td>0</td>\n",
       "      <td>0</td>\n",
       "      <td>0</td>\n",
       "      <td>0</td>\n",
       "      <td>0</td>\n",
       "      <td>0</td>\n",
       "    </tr>\n",
       "    <tr>\n",
       "      <th>98</th>\n",
       "      <td>3</td>\n",
       "      <td>0</td>\n",
       "      <td>0</td>\n",
       "      <td>0</td>\n",
       "      <td>0</td>\n",
       "      <td>0</td>\n",
       "      <td>0</td>\n",
       "      <td>0</td>\n",
       "      <td>0</td>\n",
       "      <td>1</td>\n",
       "      <td>...</td>\n",
       "      <td>1</td>\n",
       "      <td>0</td>\n",
       "      <td>0</td>\n",
       "      <td>0</td>\n",
       "      <td>0</td>\n",
       "      <td>0</td>\n",
       "      <td>0</td>\n",
       "      <td>0</td>\n",
       "      <td>0</td>\n",
       "      <td>0</td>\n",
       "    </tr>\n",
       "    <tr>\n",
       "      <th>99</th>\n",
       "      <td>1</td>\n",
       "      <td>0</td>\n",
       "      <td>0</td>\n",
       "      <td>1</td>\n",
       "      <td>0</td>\n",
       "      <td>0</td>\n",
       "      <td>0</td>\n",
       "      <td>1</td>\n",
       "      <td>0</td>\n",
       "      <td>0</td>\n",
       "      <td>...</td>\n",
       "      <td>0</td>\n",
       "      <td>0</td>\n",
       "      <td>0</td>\n",
       "      <td>0</td>\n",
       "      <td>0</td>\n",
       "      <td>0</td>\n",
       "      <td>0</td>\n",
       "      <td>0</td>\n",
       "      <td>0</td>\n",
       "      <td>0</td>\n",
       "    </tr>\n",
       "    <tr>\n",
       "      <th>100</th>\n",
       "      <td>7</td>\n",
       "      <td>1</td>\n",
       "      <td>0</td>\n",
       "      <td>2</td>\n",
       "      <td>0</td>\n",
       "      <td>1</td>\n",
       "      <td>1</td>\n",
       "      <td>2</td>\n",
       "      <td>1</td>\n",
       "      <td>1</td>\n",
       "      <td>...</td>\n",
       "      <td>0</td>\n",
       "      <td>0</td>\n",
       "      <td>0</td>\n",
       "      <td>0</td>\n",
       "      <td>0</td>\n",
       "      <td>0</td>\n",
       "      <td>1</td>\n",
       "      <td>0</td>\n",
       "      <td>0</td>\n",
       "      <td>1</td>\n",
       "    </tr>\n",
       "  </tbody>\n",
       "</table>\n",
       "<p>84 rows × 152 columns</p>\n",
       "</div>"
      ],
      "text/plain": [
       "gender      0                                               ...    1       \\\n",
       "oxy_flow 0.0  1.0  2.0  3.0  4.0  5.0  6.0  7.0  8.0  9.0   ... 67.0 68.0   \n",
       "age                                                         ...             \n",
       "17         24    2    7    4    5    6    8    4    9    7  ...    0    1   \n",
       "18          4    0    0    0    0    1    0    0    0    0  ...    0    0   \n",
       "19          7    1    0    1    0    0    0    1    2    0  ...    0    0   \n",
       "20          4    0    0    1    1    1    0    1    1    1  ...    1    0   \n",
       "21          2    1    0    1    0    1    2    0    2    1  ...    0    0   \n",
       "..        ...  ...  ...  ...  ...  ...  ...  ...  ...  ...  ...  ...  ...   \n",
       "96          4    0    0    1    0    0    1    0    0    0  ...    0    0   \n",
       "97          3    0    0    0    0    1    0    1    0    0  ...    0    0   \n",
       "98          3    0    0    0    0    0    0    0    0    1  ...    1    0   \n",
       "99          1    0    0    1    0    0    0    1    0    0  ...    0    0   \n",
       "100         7    1    0    2    0    1    1    2    1    1  ...    0    0   \n",
       "\n",
       "gender                                            \n",
       "oxy_flow 69.0 70.0 71.0 72.0 73.0 74.0 75.0 76.0  \n",
       "age                                               \n",
       "17          0    0    0    0    0    0    0   12  \n",
       "18          0    0    0    0    0    0    0    0  \n",
       "19          0    0    0    0    0    0    0    0  \n",
       "20          0    0    0    0    0    0    0    0  \n",
       "21          0    0    0    0    0    0    0    0  \n",
       "..        ...  ...  ...  ...  ...  ...  ...  ...  \n",
       "96          0    0    0    0    0    0    0    0  \n",
       "97          0    0    0    0    0    0    0    0  \n",
       "98          0    0    0    0    0    0    0    0  \n",
       "99          0    0    0    0    0    0    0    0  \n",
       "100         0    0    0    0    1    0    0    1  \n",
       "\n",
       "[84 rows x 152 columns]"
      ]
     },
     "execution_count": 17,
     "metadata": {},
     "output_type": "execute_result"
    }
   ],
   "source": [
    "# checking in which gender and in which age category how many patients need how much oxy_flow\n",
    "pd.crosstab(index =df.age ,columns =[df.gender,df.oxy_flow])"
   ]
  },
  {
   "cell_type": "code",
   "execution_count": 18,
   "id": "6d7c9ad0",
   "metadata": {},
   "outputs": [
    {
     "data": {
      "text/plain": [
       "<AxesSubplot:xlabel='pr'>"
      ]
     },
     "execution_count": 18,
     "metadata": {},
     "output_type": "execute_result"
    },
    {
     "data": {
      "image/png": "[encoded data removed]",
      "text/plain": [
       "<Figure size 720x360 with 3 Axes>"
      ]
     },
     "metadata": {
      "needs_background": "light"
     },
     "output_type": "display_data"
    }
   ],
   "source": [
    "# checking for outliers\n",
    "fig, axes = plt.subplots(3, 1, figsize=(10, 5))\n",
    "sns.boxplot(df[\"age\"],ax = axes[0])\n",
    "sns.boxplot(df[\"spo2\"], ax = axes[1],color = \"gold\")\n",
    "sns.boxplot(df[\"pr\"], ax = axes[2],color = \"brown\")"
   ]
  },
  {
   "cell_type": "markdown",
   "id": "e547e1c4",
   "metadata": {},
   "source": [
    "###### So now we have all the insights of the data. Here we have to handle null values as well as outliers. So now the time to do featuer engineering "
   ]
  },
  {
   "cell_type": "markdown",
   "id": "defcf500",
   "metadata": {},
   "source": [
    "# 4. Feature Engineering"
   ]
  },
  {
   "cell_type": "code",
   "execution_count": 19,
   "id": "15158d0b",
   "metadata": {},
   "outputs": [
    {
     "data": {
      "text/html": [
       "<div>\n",
       "<style scoped>\n",
       "    .dataframe tbody tr th:only-of-type {\n",
       "        vertical-align: middle;\n",
       "    }\n",
       "\n",
       "    .dataframe tbody tr th {\n",
       "        vertical-align: top;\n",
       "    }\n",
       "\n",
       "    .dataframe thead th {\n",
       "        text-align: right;\n",
       "    }\n",
       "</style>\n",
       "<table border=\"1\" class=\"dataframe\">\n",
       "  <thead>\n",
       "    <tr style=\"text-align: right;\">\n",
       "      <th></th>\n",
       "      <th>age</th>\n",
       "      <th>gender</th>\n",
       "      <th>spo2</th>\n",
       "      <th>pr</th>\n",
       "      <th>c/nc</th>\n",
       "      <th>oxy_flow</th>\n",
       "    </tr>\n",
       "  </thead>\n",
       "  <tbody>\n",
       "    <tr>\n",
       "      <th>0</th>\n",
       "      <td>79.0</td>\n",
       "      <td>1.0</td>\n",
       "      <td>97.0</td>\n",
       "      <td>110.0</td>\n",
       "      <td>1.0</td>\n",
       "      <td>0.0</td>\n",
       "    </tr>\n",
       "    <tr>\n",
       "      <th>1</th>\n",
       "      <td>17.0</td>\n",
       "      <td>0.0</td>\n",
       "      <td>98.8</td>\n",
       "      <td>54.0</td>\n",
       "      <td>1.0</td>\n",
       "      <td>29.0</td>\n",
       "    </tr>\n",
       "    <tr>\n",
       "      <th>2</th>\n",
       "      <td>17.0</td>\n",
       "      <td>0.0</td>\n",
       "      <td>81.8</td>\n",
       "      <td>49.0</td>\n",
       "      <td>1.0</td>\n",
       "      <td>6.0</td>\n",
       "    </tr>\n",
       "    <tr>\n",
       "      <th>3</th>\n",
       "      <td>41.0</td>\n",
       "      <td>0.0</td>\n",
       "      <td>99.0</td>\n",
       "      <td>108.0</td>\n",
       "      <td>1.0</td>\n",
       "      <td>76.0</td>\n",
       "    </tr>\n",
       "    <tr>\n",
       "      <th>4</th>\n",
       "      <td>70.0</td>\n",
       "      <td>0.0</td>\n",
       "      <td>81.0</td>\n",
       "      <td>104.0</td>\n",
       "      <td>1.0</td>\n",
       "      <td>0.0</td>\n",
       "    </tr>\n",
       "  </tbody>\n",
       "</table>\n",
       "</div>"
      ],
      "text/plain": [
       "    age  gender  spo2     pr  c/nc  oxy_flow\n",
       "0  79.0     1.0  97.0  110.0   1.0       0.0\n",
       "1  17.0     0.0  98.8   54.0   1.0      29.0\n",
       "2  17.0     0.0  81.8   49.0   1.0       6.0\n",
       "3  41.0     0.0  99.0  108.0   1.0      76.0\n",
       "4  70.0     0.0  81.0  104.0   1.0       0.0"
      ]
     },
     "execution_count": 19,
     "metadata": {},
     "output_type": "execute_result"
    }
   ],
   "source": [
    "# first we will handle null values.\n",
    "# We can fill null values with mean, but knn-imputer is one of the best choice so we will use it.\n",
    "knn = KNNImputer()\n",
    "arr = knn.fit_transform(df)\n",
    "df1 = pd.DataFrame(arr, columns = df.columns)\n",
    "df1.head()"
   ]
  },
  {
   "cell_type": "code",
   "execution_count": 20,
   "id": "e7af32c4",
   "metadata": {},
   "outputs": [
    {
     "data": {
      "text/plain": [
       "age         0\n",
       "gender      0\n",
       "spo2        0\n",
       "pr          0\n",
       "c/nc        0\n",
       "oxy_flow    0\n",
       "dtype: int64"
      ]
     },
     "execution_count": 20,
     "metadata": {},
     "output_type": "execute_result"
    }
   ],
   "source": [
    "df1.isna().sum()"
   ]
  },
  {
   "cell_type": "code",
   "execution_count": 21,
   "id": "5ef3bd57",
   "metadata": {},
   "outputs": [
    {
     "data": {
      "text/plain": [
       "23      36.0\n",
       "126     43.0\n",
       "191     36.0\n",
       "209     37.0\n",
       "226     35.0\n",
       "        ... \n",
       "4816    35.0\n",
       "4834    35.0\n",
       "4882    37.0\n",
       "4937    35.0\n",
       "4984    42.0\n",
       "Name: spo2, Length: 147, dtype: float64"
      ]
     },
     "execution_count": 21,
     "metadata": {},
     "output_type": "execute_result"
    }
   ],
   "source": [
    "# now we use z_score for finding the outliers\n",
    "# Normal SpO2 values vary between 90 and 100%\n",
    "\n",
    "z_val = stats.zscore(df1[\"spo2\"])\n",
    "z_val = np.abs(z_val)\n",
    "threshold = 3\n",
    "outliers = np.where(z_val >= threshold)\n",
    "df1[\"spo2\"][outliers[0]]"
   ]
  },
  {
   "cell_type": "code",
   "execution_count": 22,
   "id": "029a0f34",
   "metadata": {},
   "outputs": [
    {
     "data": {
      "text/plain": [
       "89      46.0\n",
       "132     40.0\n",
       "294     40.0\n",
       "370     40.0\n",
       "1229    40.0\n",
       "2194    47.0\n",
       "2324    43.0\n",
       "2434    46.0\n",
       "2557    47.0\n",
       "2748    42.0\n",
       "2833    40.0\n",
       "2834    45.0\n",
       "3055    40.0\n",
       "3195    40.0\n",
       "3590    40.0\n",
       "3593    40.0\n",
       "3898    47.0\n",
       "3989    46.0\n",
       "4011    45.0\n",
       "4290    44.0\n",
       "4615    46.0\n",
       "4810    47.0\n",
       "Name: pr, dtype: float64"
      ]
     },
     "execution_count": 22,
     "metadata": {},
     "output_type": "execute_result"
    }
   ],
   "source": [
    "# A normal pulse rate for adults is between 60 and 100 beats per minute.\n",
    "# Similar to spo2 we will use scaling for pr feature also.\n",
    "\n",
    "z_scr = stats.zscore(df1[\"pr\"])\n",
    "z_scr = np.abs(z_scr)\n",
    "threshold = 3\n",
    "outliers1 = np.where(z_scr >= threshold)\n",
    "df1[\"pr\"][outliers1[0]]"
   ]
  },
  {
   "cell_type": "markdown",
   "id": "58ee6e59",
   "metadata": {},
   "source": [
    "###### let's check the mean value of the featuer, wich is 88. But  if we replace outliers with 88 so it will be around normal range.\n",
    "###### So we will not handle outliers because we needs actual information.  But we can reduce the impact by using scaling."
   ]
  },
  {
   "cell_type": "markdown",
   "id": "2abf8c7d",
   "metadata": {},
   "source": [
    "# 5. Feature Selection"
   ]
  },
  {
   "cell_type": "code",
   "execution_count": 23,
   "id": "c3ac0943",
   "metadata": {},
   "outputs": [
    {
     "data": {
      "text/html": [
       "<div>\n",
       "<style scoped>\n",
       "    .dataframe tbody tr th:only-of-type {\n",
       "        vertical-align: middle;\n",
       "    }\n",
       "\n",
       "    .dataframe tbody tr th {\n",
       "        vertical-align: top;\n",
       "    }\n",
       "\n",
       "    .dataframe thead th {\n",
       "        text-align: right;\n",
       "    }\n",
       "</style>\n",
       "<table border=\"1\" class=\"dataframe\">\n",
       "  <thead>\n",
       "    <tr style=\"text-align: right;\">\n",
       "      <th></th>\n",
       "      <th>age</th>\n",
       "      <th>spo2</th>\n",
       "      <th>pr</th>\n",
       "    </tr>\n",
       "  </thead>\n",
       "  <tbody>\n",
       "    <tr>\n",
       "      <th>oxy_flow</th>\n",
       "      <td>-0.068582</td>\n",
       "      <td>-0.014289</td>\n",
       "      <td>-0.079262</td>\n",
       "    </tr>\n",
       "  </tbody>\n",
       "</table>\n",
       "</div>"
      ],
      "text/plain": [
       "               age      spo2        pr\n",
       "oxy_flow -0.068582 -0.014289 -0.079262"
      ]
     },
     "execution_count": 23,
     "metadata": {},
     "output_type": "execute_result"
    }
   ],
   "source": [
    "# less corellation between depedent and independent variables\n",
    "df1.corr()[-1:][[\"age\",\"spo2\",\"pr\"]] #(independent cont and dependent cont) "
   ]
  },
  {
   "cell_type": "code",
   "execution_count": 24,
   "id": "9d04d131",
   "metadata": {},
   "outputs": [
    {
     "data": {
      "text/html": [
       "<div>\n",
       "<style scoped>\n",
       "    .dataframe tbody tr th:only-of-type {\n",
       "        vertical-align: middle;\n",
       "    }\n",
       "\n",
       "    .dataframe tbody tr th {\n",
       "        vertical-align: top;\n",
       "    }\n",
       "\n",
       "    .dataframe thead th {\n",
       "        text-align: right;\n",
       "    }\n",
       "</style>\n",
       "<table border=\"1\" class=\"dataframe\">\n",
       "  <thead>\n",
       "    <tr style=\"text-align: right;\">\n",
       "      <th></th>\n",
       "      <th>gender</th>\n",
       "      <th>c/nc</th>\n",
       "    </tr>\n",
       "  </thead>\n",
       "  <tbody>\n",
       "    <tr>\n",
       "      <th>oxy_flow</th>\n",
       "      <td>0.032172</td>\n",
       "      <td>-0.018875</td>\n",
       "    </tr>\n",
       "  </tbody>\n",
       "</table>\n",
       "</div>"
      ],
      "text/plain": [
       "            gender      c/nc\n",
       "oxy_flow  0.032172 -0.018875"
      ]
     },
     "execution_count": 24,
     "metadata": {},
     "output_type": "execute_result"
    }
   ],
   "source": [
    "# less corellation between dependent and independent variables\n",
    "df1.corr(method = \"kendall\")[-1:][[\"gender\",\"c/nc\"]] # (independent cat and dependent con)"
   ]
  },
  {
   "cell_type": "code",
   "execution_count": 25,
   "id": "dac36e1c",
   "metadata": {},
   "outputs": [
    {
     "data": {
      "text/plain": [
       "age       0.000000\n",
       "gender    0.004545\n",
       "spo2      0.009260\n",
       "pr        0.011464\n",
       "c/nc      0.003670\n",
       "dtype: float64"
      ]
     },
     "execution_count": 25,
     "metadata": {},
     "output_type": "execute_result"
    }
   ],
   "source": [
    "# taking mutual information # telling all the featuers are giving information exept c/nc\n",
    "arr = mutual_info_regression(df1.drop(\"oxy_flow\", axis = 1), df1[\"oxy_flow\"])\n",
    "pd.Series(arr, index = df1.drop(\"oxy_flow\", axis = 1).columns)"
   ]
  },
  {
   "cell_type": "code",
   "execution_count": 26,
   "id": "c74ddac6",
   "metadata": {},
   "outputs": [
    {
     "data": {
      "text/html": [
       "<div>\n",
       "<style scoped>\n",
       "    .dataframe tbody tr th:only-of-type {\n",
       "        vertical-align: middle;\n",
       "    }\n",
       "\n",
       "    .dataframe tbody tr th {\n",
       "        vertical-align: top;\n",
       "    }\n",
       "\n",
       "    .dataframe thead th {\n",
       "        text-align: right;\n",
       "    }\n",
       "</style>\n",
       "<table border=\"1\" class=\"dataframe\">\n",
       "  <thead>\n",
       "    <tr style=\"text-align: right;\">\n",
       "      <th></th>\n",
       "      <th>F_val</th>\n",
       "      <th>P_val</th>\n",
       "    </tr>\n",
       "  </thead>\n",
       "  <tbody>\n",
       "    <tr>\n",
       "      <th>age</th>\n",
       "      <td>23.62</td>\n",
       "      <td>0.00</td>\n",
       "    </tr>\n",
       "    <tr>\n",
       "      <th>gender</th>\n",
       "      <td>2.50</td>\n",
       "      <td>0.11</td>\n",
       "    </tr>\n",
       "    <tr>\n",
       "      <th>spo2</th>\n",
       "      <td>1.02</td>\n",
       "      <td>0.31</td>\n",
       "    </tr>\n",
       "    <tr>\n",
       "      <th>pr</th>\n",
       "      <td>31.60</td>\n",
       "      <td>0.00</td>\n",
       "    </tr>\n",
       "    <tr>\n",
       "      <th>c/nc</th>\n",
       "      <td>1.60</td>\n",
       "      <td>0.21</td>\n",
       "    </tr>\n",
       "  </tbody>\n",
       "</table>\n",
       "</div>"
      ],
      "text/plain": [
       "        F_val  P_val\n",
       "age     23.62   0.00\n",
       "gender   2.50   0.11\n",
       "spo2     1.02   0.31\n",
       "pr      31.60   0.00\n",
       "c/nc     1.60   0.21"
      ]
     },
     "execution_count": 26,
     "metadata": {},
     "output_type": "execute_result"
    }
   ],
   "source": [
    "# conducting Annova Test # telling all the featues are good for model (cat VS cont)\n",
    "f_val,p_val = f_regression(df1.drop(\"oxy_flow\", axis = 1), df1[\"oxy_flow\"])\n",
    "pd.DataFrame({\"F_val\":np.around(f_val,2), \"P_val\": np.around(p_val,2)}, index = df1.drop(\"oxy_flow\", axis = 1).columns)\n"
   ]
  },
  {
   "cell_type": "code",
   "execution_count": 27,
   "id": "15c48733",
   "metadata": {},
   "outputs": [
    {
     "data": {
      "text/plain": [
       "<AxesSubplot:>"
      ]
     },
     "execution_count": 27,
     "metadata": {},
     "output_type": "execute_result"
    },
    {
     "data": {
      "image/png": "[encoded data removed]",
      "text/plain": [
       "<Figure size 432x288 with 1 Axes>"
      ]
     },
     "metadata": {
      "needs_background": "light"
     },
     "output_type": "display_data"
    }
   ],
   "source": [
    "# fisher score telling only pr is not important but we can not drop it as different tests told that pr is important\n",
    "fisher_scr = fisher_score.fisher_score(df1.drop(\"oxy_flow\", axis = 1)[0:5000].to_numpy(),df1[\"oxy_flow\"][0:5000])\n",
    "s = pd.Series(fisher_scr,index = df1.drop(\"oxy_flow\", axis = 1).columns)\n",
    "s.sort_values().plot(kind = \"barh\")"
   ]
  },
  {
   "cell_type": "markdown",
   "id": "83f1cd65",
   "metadata": {},
   "source": [
    "###### After conducting all the feature selection techniques, we can conclude that there is no featuer to drop"
   ]
  },
  {
   "cell_type": "markdown",
   "id": "ceca0065",
   "metadata": {},
   "source": [
    "# 6. Model Selection & Training"
   ]
  },
  {
   "cell_type": "code",
   "execution_count": 28,
   "id": "be44087f",
   "metadata": {},
   "outputs": [],
   "source": [
    "x = df1.drop(\"oxy_flow\", axis = 1)\n",
    "y = df1[\"oxy_flow\"]"
   ]
  },
  {
   "cell_type": "code",
   "execution_count": 29,
   "id": "8dfe9119",
   "metadata": {},
   "outputs": [],
   "source": [
    "# spliting the data for training as well as testing purpose\n",
    "x_train,x_test,y_train,y_test = train_test_split(x,y, random_state=42,test_size=0.35 )"
   ]
  },
  {
   "cell_type": "markdown",
   "id": "09f0c1c4",
   "metadata": {},
   "source": [
    "###### We have to split our data into training and testing purpose before going for scaling to skip data leakage."
   ]
  },
  {
   "cell_type": "code",
   "execution_count": 30,
   "id": "fffcf29a",
   "metadata": {},
   "outputs": [
    {
     "data": {
      "text/html": [
       "<div>\n",
       "<style scoped>\n",
       "    .dataframe tbody tr th:only-of-type {\n",
       "        vertical-align: middle;\n",
       "    }\n",
       "\n",
       "    .dataframe tbody tr th {\n",
       "        vertical-align: top;\n",
       "    }\n",
       "\n",
       "    .dataframe thead th {\n",
       "        text-align: right;\n",
       "    }\n",
       "</style>\n",
       "<table border=\"1\" class=\"dataframe\">\n",
       "  <thead>\n",
       "    <tr style=\"text-align: right;\">\n",
       "      <th></th>\n",
       "      <th>age</th>\n",
       "      <th>gender</th>\n",
       "      <th>spo2</th>\n",
       "      <th>pr</th>\n",
       "      <th>c/nc</th>\n",
       "    </tr>\n",
       "  </thead>\n",
       "  <tbody>\n",
       "    <tr>\n",
       "      <th>0</th>\n",
       "      <td>1.671378</td>\n",
       "      <td>-0.714299</td>\n",
       "      <td>0.717687</td>\n",
       "      <td>0.376678</td>\n",
       "      <td>0.511513</td>\n",
       "    </tr>\n",
       "    <tr>\n",
       "      <th>1</th>\n",
       "      <td>0.266471</td>\n",
       "      <td>-0.714299</td>\n",
       "      <td>-0.029830</td>\n",
       "      <td>-0.690479</td>\n",
       "      <td>0.511513</td>\n",
       "    </tr>\n",
       "    <tr>\n",
       "      <th>2</th>\n",
       "      <td>-0.951115</td>\n",
       "      <td>-0.714299</td>\n",
       "      <td>-1.388950</td>\n",
       "      <td>-0.103543</td>\n",
       "      <td>0.511513</td>\n",
       "    </tr>\n",
       "    <tr>\n",
       "      <th>3</th>\n",
       "      <td>0.266471</td>\n",
       "      <td>1.399974</td>\n",
       "      <td>0.717687</td>\n",
       "      <td>1.177045</td>\n",
       "      <td>0.511513</td>\n",
       "    </tr>\n",
       "    <tr>\n",
       "      <th>4</th>\n",
       "      <td>1.109415</td>\n",
       "      <td>-0.714299</td>\n",
       "      <td>-0.709390</td>\n",
       "      <td>-0.290295</td>\n",
       "      <td>0.511513</td>\n",
       "    </tr>\n",
       "    <tr>\n",
       "      <th>...</th>\n",
       "      <td>...</td>\n",
       "      <td>...</td>\n",
       "      <td>...</td>\n",
       "      <td>...</td>\n",
       "      <td>...</td>\n",
       "    </tr>\n",
       "    <tr>\n",
       "      <th>3245</th>\n",
       "      <td>-0.389152</td>\n",
       "      <td>-0.714299</td>\n",
       "      <td>0.581775</td>\n",
       "      <td>-2.824792</td>\n",
       "      <td>0.511513</td>\n",
       "    </tr>\n",
       "    <tr>\n",
       "      <th>3246</th>\n",
       "      <td>1.062585</td>\n",
       "      <td>1.399974</td>\n",
       "      <td>0.717687</td>\n",
       "      <td>-0.623782</td>\n",
       "      <td>0.511513</td>\n",
       "    </tr>\n",
       "    <tr>\n",
       "      <th>3247</th>\n",
       "      <td>-0.155001</td>\n",
       "      <td>-0.714299</td>\n",
       "      <td>0.717687</td>\n",
       "      <td>0.643467</td>\n",
       "      <td>-1.954983</td>\n",
       "    </tr>\n",
       "    <tr>\n",
       "      <th>3248</th>\n",
       "      <td>0.547453</td>\n",
       "      <td>-0.714299</td>\n",
       "      <td>0.717687</td>\n",
       "      <td>0.443375</td>\n",
       "      <td>0.511513</td>\n",
       "    </tr>\n",
       "    <tr>\n",
       "      <th>3249</th>\n",
       "      <td>-0.670133</td>\n",
       "      <td>-0.714299</td>\n",
       "      <td>-0.369610</td>\n",
       "      <td>1.177045</td>\n",
       "      <td>-1.954983</td>\n",
       "    </tr>\n",
       "  </tbody>\n",
       "</table>\n",
       "<p>3250 rows × 5 columns</p>\n",
       "</div>"
      ],
      "text/plain": [
       "           age    gender      spo2        pr      c/nc\n",
       "0     1.671378 -0.714299  0.717687  0.376678  0.511513\n",
       "1     0.266471 -0.714299 -0.029830 -0.690479  0.511513\n",
       "2    -0.951115 -0.714299 -1.388950 -0.103543  0.511513\n",
       "3     0.266471  1.399974  0.717687  1.177045  0.511513\n",
       "4     1.109415 -0.714299 -0.709390 -0.290295  0.511513\n",
       "...        ...       ...       ...       ...       ...\n",
       "3245 -0.389152 -0.714299  0.581775 -2.824792  0.511513\n",
       "3246  1.062585  1.399974  0.717687 -0.623782  0.511513\n",
       "3247 -0.155001 -0.714299  0.717687  0.643467 -1.954983\n",
       "3248  0.547453 -0.714299  0.717687  0.443375  0.511513\n",
       "3249 -0.670133 -0.714299 -0.369610  1.177045 -1.954983\n",
       "\n",
       "[3250 rows x 5 columns]"
      ]
     },
     "execution_count": 30,
     "metadata": {},
     "output_type": "execute_result"
    }
   ],
   "source": [
    "# scaling to reduce impact of the outliers (fit only on training data)\n",
    "std = StandardScaler()\n",
    "arr = std.fit_transform(x_train)\n",
    "std_x_tr = pd.DataFrame(arr,columns = x_train.columns)\n",
    "std_x_tr"
   ]
  },
  {
   "cell_type": "code",
   "execution_count": 31,
   "id": "ac9bdf85",
   "metadata": {},
   "outputs": [
    {
     "data": {
      "text/html": [
       "<div>\n",
       "<style scoped>\n",
       "    .dataframe tbody tr th:only-of-type {\n",
       "        vertical-align: middle;\n",
       "    }\n",
       "\n",
       "    .dataframe tbody tr th {\n",
       "        vertical-align: top;\n",
       "    }\n",
       "\n",
       "    .dataframe thead th {\n",
       "        text-align: right;\n",
       "    }\n",
       "</style>\n",
       "<table border=\"1\" class=\"dataframe\">\n",
       "  <thead>\n",
       "    <tr style=\"text-align: right;\">\n",
       "      <th></th>\n",
       "      <th>age</th>\n",
       "      <th>gender</th>\n",
       "      <th>spo2</th>\n",
       "      <th>pr</th>\n",
       "      <th>c/nc</th>\n",
       "    </tr>\n",
       "  </thead>\n",
       "  <tbody>\n",
       "    <tr>\n",
       "      <th>0</th>\n",
       "      <td>-0.529643</td>\n",
       "      <td>-0.714299</td>\n",
       "      <td>0.432272</td>\n",
       "      <td>-0.290295</td>\n",
       "      <td>0.511513</td>\n",
       "    </tr>\n",
       "    <tr>\n",
       "      <th>1</th>\n",
       "      <td>0.547453</td>\n",
       "      <td>1.399974</td>\n",
       "      <td>-0.233698</td>\n",
       "      <td>0.976953</td>\n",
       "      <td>0.511513</td>\n",
       "    </tr>\n",
       "    <tr>\n",
       "      <th>2</th>\n",
       "      <td>0.594283</td>\n",
       "      <td>-0.714299</td>\n",
       "      <td>-0.233698</td>\n",
       "      <td>0.309980</td>\n",
       "      <td>0.511513</td>\n",
       "    </tr>\n",
       "    <tr>\n",
       "      <th>3</th>\n",
       "      <td>-0.716964</td>\n",
       "      <td>-0.714299</td>\n",
       "      <td>-0.165742</td>\n",
       "      <td>0.443375</td>\n",
       "      <td>0.511513</td>\n",
       "    </tr>\n",
       "    <tr>\n",
       "      <th>4</th>\n",
       "      <td>1.811869</td>\n",
       "      <td>1.399974</td>\n",
       "      <td>0.717687</td>\n",
       "      <td>0.870237</td>\n",
       "      <td>0.511513</td>\n",
       "    </tr>\n",
       "    <tr>\n",
       "      <th>...</th>\n",
       "      <td>...</td>\n",
       "      <td>...</td>\n",
       "      <td>...</td>\n",
       "      <td>...</td>\n",
       "      <td>...</td>\n",
       "    </tr>\n",
       "    <tr>\n",
       "      <th>1745</th>\n",
       "      <td>1.062585</td>\n",
       "      <td>-0.714299</td>\n",
       "      <td>0.717687</td>\n",
       "      <td>0.029852</td>\n",
       "      <td>0.511513</td>\n",
       "    </tr>\n",
       "    <tr>\n",
       "      <th>1746</th>\n",
       "      <td>-0.576473</td>\n",
       "      <td>-0.714299</td>\n",
       "      <td>0.717687</td>\n",
       "      <td>1.177045</td>\n",
       "      <td>-1.954983</td>\n",
       "    </tr>\n",
       "    <tr>\n",
       "      <th>1747</th>\n",
       "      <td>1.156245</td>\n",
       "      <td>-0.714299</td>\n",
       "      <td>0.717687</td>\n",
       "      <td>1.177045</td>\n",
       "      <td>-1.954983</td>\n",
       "    </tr>\n",
       "    <tr>\n",
       "      <th>1748</th>\n",
       "      <td>1.203076</td>\n",
       "      <td>-0.714299</td>\n",
       "      <td>-0.016238</td>\n",
       "      <td>-0.156901</td>\n",
       "      <td>0.511513</td>\n",
       "    </tr>\n",
       "    <tr>\n",
       "      <th>1749</th>\n",
       "      <td>2.139680</td>\n",
       "      <td>-0.714299</td>\n",
       "      <td>0.717687</td>\n",
       "      <td>1.043650</td>\n",
       "      <td>-1.954983</td>\n",
       "    </tr>\n",
       "  </tbody>\n",
       "</table>\n",
       "<p>1750 rows × 5 columns</p>\n",
       "</div>"
      ],
      "text/plain": [
       "           age    gender      spo2        pr      c/nc\n",
       "0    -0.529643 -0.714299  0.432272 -0.290295  0.511513\n",
       "1     0.547453  1.399974 -0.233698  0.976953  0.511513\n",
       "2     0.594283 -0.714299 -0.233698  0.309980  0.511513\n",
       "3    -0.716964 -0.714299 -0.165742  0.443375  0.511513\n",
       "4     1.811869  1.399974  0.717687  0.870237  0.511513\n",
       "...        ...       ...       ...       ...       ...\n",
       "1745  1.062585 -0.714299  0.717687  0.029852  0.511513\n",
       "1746 -0.576473 -0.714299  0.717687  1.177045 -1.954983\n",
       "1747  1.156245 -0.714299  0.717687  1.177045 -1.954983\n",
       "1748  1.203076 -0.714299 -0.016238 -0.156901  0.511513\n",
       "1749  2.139680 -0.714299  0.717687  1.043650 -1.954983\n",
       "\n",
       "[1750 rows x 5 columns]"
      ]
     },
     "execution_count": 31,
     "metadata": {},
     "output_type": "execute_result"
    }
   ],
   "source": [
    "# Now we will scale test data set values\n",
    "arr2 = std.transform(x_test)\n",
    "std_x_te= pd.DataFrame(arr2,columns = x_test.columns)\n",
    "std_x_te"
   ]
  },
  {
   "cell_type": "code",
   "execution_count": 32,
   "id": "06096272",
   "metadata": {},
   "outputs": [
    {
     "name": "stdout",
     "output_type": "stream",
     "text": [
      "the accuracies of linear_regression model \n",
      "          (Training: 0.008875137573596925) \n",
      "          (Test: 0.014832011841349746)\n",
      "the mse of linear_regression model \n",
      "          (Training: 12.2721302294162) \n",
      "          (Test: 12.415736814413533) \n",
      "******************************\n",
      "the accuracies of DT model \n",
      "          (Training: 0.9610635590417821) \n",
      "          (Test: -0.9056117005887852)\n",
      "the mse of DT model \n",
      "          (Training: 0.6955384615384615) \n",
      "          (Test: 17.39909523809524) \n",
      "******************************\n",
      "the accuracies of Random_Forest model \n",
      "          (Training: 0.813408100214667) \n",
      "          (Test: -0.1263533495952096)\n",
      "the mse of Random_Forest model \n",
      "          (Training: 5.379730214648599) \n",
      "          (Test: 13.562597857047717) \n",
      "******************************\n",
      "the accuracies of KNN model \n",
      "          (Training: 0.2091350591803971) \n",
      "          (Test: -0.1710991401338302)\n",
      "the mse of KNN model \n",
      "          (Training: 11.461415384615387) \n",
      "          (Test: 13.912114285714287) \n",
      "******************************\n"
     ]
    }
   ],
   "source": [
    "models = [(\"linear_regression\",LinearRegression()),(\"DT\", DecisionTreeRegressor()),\n",
    "          (\"Random_Forest\",RandomForestRegressor()),(\"KNN\",KNeighborsRegressor())]\n",
    "for name,model in models:\n",
    "    model.fit(std_x_tr,y_train)\n",
    "    pred = model.predict(std_x_tr)\n",
    "    pred1 = model.predict(std_x_te)\n",
    "    print(f\"\"\"the accuracies of {name} model \n",
    "          (Training: {r2_score(y_train,pred)}) \n",
    "          (Test: {r2_score(y_test,pred1)})\"\"\" )\n",
    "    print(f\"\"\"the mse of {name} model \n",
    "          (Training: {mean_absolute_error(y_train,pred)}) \n",
    "          (Test: {mean_absolute_error(y_test,pred1)}) \"\"\")\n",
    "    print(\"*\"*30)\n",
    "    "
   ]
  },
  {
   "cell_type": "markdown",
   "id": "e40e1de7",
   "metadata": {},
   "source": [
    "###### Hyper Parameter Tuning for Decision Tree Model"
   ]
  },
  {
   "cell_type": "code",
   "execution_count": 33,
   "id": "ff79ddd0",
   "metadata": {},
   "outputs": [
    {
     "data": {
      "text/html": [
       "<style>#sk-container-id-1 {color: black;background-color: white;}#sk-container-id-1 pre{padding: 0;}#sk-container-id-1 div.sk-toggleable {background-color: white;}#sk-container-id-1 label.sk-toggleable__label {cursor: pointer;display: block;width: 100%;margin-bottom: 0;padding: 0.3em;box-sizing: border-box;text-align: center;}#sk-container-id-1 label.sk-toggleable__label-arrow:before {content: \"▸\";float: left;margin-right: 0.25em;color: #696969;}#sk-container-id-1 label.sk-toggleable__label-arrow:hover:before {color: black;}#sk-container-id-1 div.sk-estimator:hover label.sk-toggleable__label-arrow:before {color: black;}#sk-container-id-1 div.sk-toggleable__content {max-height: 0;max-width: 0;overflow: hidden;text-align: left;background-color: #f0f8ff;}#sk-container-id-1 div.sk-toggleable__content pre {margin: 0.2em;color: black;border-radius: 0.25em;background-color: #f0f8ff;}#sk-container-id-1 input.sk-toggleable__control:checked~div.sk-toggleable__content {max-height: 200px;max-width: 100%;overflow: auto;}#sk-container-id-1 input.sk-toggleable__control:checked~label.sk-toggleable__label-arrow:before {content: \"▾\";}#sk-container-id-1 div.sk-estimator input.sk-toggleable__control:checked~label.sk-toggleable__label {background-color: #d4ebff;}#sk-container-id-1 div.sk-label input.sk-toggleable__control:checked~label.sk-toggleable__label {background-color: #d4ebff;}#sk-container-id-1 input.sk-hidden--visually {border: 0;clip: rect(1px 1px 1px 1px);clip: rect(1px, 1px, 1px, 1px);height: 1px;margin: -1px;overflow: hidden;padding: 0;position: absolute;width: 1px;}#sk-container-id-1 div.sk-estimator {font-family: monospace;background-color: #f0f8ff;border: 1px dotted black;border-radius: 0.25em;box-sizing: border-box;margin-bottom: 0.5em;}#sk-container-id-1 div.sk-estimator:hover {background-color: #d4ebff;}#sk-container-id-1 div.sk-parallel-item::after {content: \"\";width: 100%;border-bottom: 1px solid gray;flex-grow: 1;}#sk-container-id-1 div.sk-label:hover label.sk-toggleable__label {background-color: #d4ebff;}#sk-container-id-1 div.sk-serial::before {content: \"\";position: absolute;border-left: 1px solid gray;box-sizing: border-box;top: 0;bottom: 0;left: 50%;z-index: 0;}#sk-container-id-1 div.sk-serial {display: flex;flex-direction: column;align-items: center;background-color: white;padding-right: 0.2em;padding-left: 0.2em;position: relative;}#sk-container-id-1 div.sk-item {position: relative;z-index: 1;}#sk-container-id-1 div.sk-parallel {display: flex;align-items: stretch;justify-content: center;background-color: white;position: relative;}#sk-container-id-1 div.sk-item::before, #sk-container-id-1 div.sk-parallel-item::before {content: \"\";position: absolute;border-left: 1px solid gray;box-sizing: border-box;top: 0;bottom: 0;left: 50%;z-index: -1;}#sk-container-id-1 div.sk-parallel-item {display: flex;flex-direction: column;z-index: 1;position: relative;background-color: white;}#sk-container-id-1 div.sk-parallel-item:first-child::after {align-self: flex-end;width: 50%;}#sk-container-id-1 div.sk-parallel-item:last-child::after {align-self: flex-start;width: 50%;}#sk-container-id-1 div.sk-parallel-item:only-child::after {width: 0;}#sk-container-id-1 div.sk-dashed-wrapped {border: 1px dashed gray;margin: 0 0.4em 0.5em 0.4em;box-sizing: border-box;padding-bottom: 0.4em;background-color: white;}#sk-container-id-1 div.sk-label label {font-family: monospace;font-weight: bold;display: inline-block;line-height: 1.2em;}#sk-container-id-1 div.sk-label-container {text-align: center;}#sk-container-id-1 div.sk-container {/* jupyter's `normalize.less` sets `[hidden] { display: none; }` but bootstrap.min.css set `[hidden] { display: none !important; }` so we also need the `!important` here to be able to override the default hidden behavior on the sphinx rendered scikit-learn.org. See: https://github.com/scikit-learn/scikit-learn/issues/21755 */display: inline-block !important;position: relative;}#sk-container-id-1 div.sk-text-repr-fallback {display: none;}</style><div id=\"sk-container-id-1\" class=\"sk-top-container\"><div class=\"sk-text-repr-fallback\"><pre>DecisionTreeRegressor(criterion=&#x27;mse&#x27;, max_depth=2, min_samples_leaf=3,\n",
       "                      min_samples_split=15, random_state=45)</pre><b>In a Jupyter environment, please rerun this cell to show the HTML representation or trust the notebook. <br />On GitHub, the HTML representation is unable to render, please try loading this page with nbviewer.org.</b></div><div class=\"sk-container\" hidden><div class=\"sk-item\"><div class=\"sk-estimator sk-toggleable\"><input class=\"sk-toggleable__control sk-hidden--visually\" id=\"sk-estimator-id-1\" type=\"checkbox\" checked><label for=\"sk-estimator-id-1\" class=\"sk-toggleable__label sk-toggleable__label-arrow\">DecisionTreeRegressor</label><div class=\"sk-toggleable__content\"><pre>DecisionTreeRegressor(criterion=&#x27;mse&#x27;, max_depth=2, min_samples_leaf=3,\n",
       "                      min_samples_split=15, random_state=45)</pre></div></div></div></div></div>"
      ],
      "text/plain": [
       "DecisionTreeRegressor(criterion='mse', max_depth=2, min_samples_leaf=3,\n",
       "                      min_samples_split=15, random_state=45)"
      ]
     },
     "execution_count": 33,
     "metadata": {},
     "output_type": "execute_result"
    }
   ],
   "source": [
    "# Hyper parameter tuning\n",
    "model = DecisionTreeRegressor()\n",
    "param = {\"criterion\":[\"mse\",\"mae\"], \"max_depth\": np.arange(2,30),\n",
    "         \"min_samples_split\": np.arange(2,20), \"min_samples_leaf\": np.arange(1,10),\n",
    "         \"random_state\": [42,43,44,45]}\n",
    "grscv = RandomizedSearchCV(model,param,cv=5)\n",
    "grscv.fit(std_x_tr,y_train)\n",
    "grscv.best_estimator_"
   ]
  },
  {
   "cell_type": "code",
   "execution_count": 39,
   "id": "a6703b37",
   "metadata": {},
   "outputs": [
    {
     "data": {
      "text/html": [
       "<style>#sk-container-id-4 {color: black;background-color: white;}#sk-container-id-4 pre{padding: 0;}#sk-container-id-4 div.sk-toggleable {background-color: white;}#sk-container-id-4 label.sk-toggleable__label {cursor: pointer;display: block;width: 100%;margin-bottom: 0;padding: 0.3em;box-sizing: border-box;text-align: center;}#sk-container-id-4 label.sk-toggleable__label-arrow:before {content: \"▸\";float: left;margin-right: 0.25em;color: #696969;}#sk-container-id-4 label.sk-toggleable__label-arrow:hover:before {color: black;}#sk-container-id-4 div.sk-estimator:hover label.sk-toggleable__label-arrow:before {color: black;}#sk-container-id-4 div.sk-toggleable__content {max-height: 0;max-width: 0;overflow: hidden;text-align: left;background-color: #f0f8ff;}#sk-container-id-4 div.sk-toggleable__content pre {margin: 0.2em;color: black;border-radius: 0.25em;background-color: #f0f8ff;}#sk-container-id-4 input.sk-toggleable__control:checked~div.sk-toggleable__content {max-height: 200px;max-width: 100%;overflow: auto;}#sk-container-id-4 input.sk-toggleable__control:checked~label.sk-toggleable__label-arrow:before {content: \"▾\";}#sk-container-id-4 div.sk-estimator input.sk-toggleable__control:checked~label.sk-toggleable__label {background-color: #d4ebff;}#sk-container-id-4 div.sk-label input.sk-toggleable__control:checked~label.sk-toggleable__label {background-color: #d4ebff;}#sk-container-id-4 input.sk-hidden--visually {border: 0;clip: rect(1px 1px 1px 1px);clip: rect(1px, 1px, 1px, 1px);height: 1px;margin: -1px;overflow: hidden;padding: 0;position: absolute;width: 1px;}#sk-container-id-4 div.sk-estimator {font-family: monospace;background-color: #f0f8ff;border: 1px dotted black;border-radius: 0.25em;box-sizing: border-box;margin-bottom: 0.5em;}#sk-container-id-4 div.sk-estimator:hover {background-color: #d4ebff;}#sk-container-id-4 div.sk-parallel-item::after {content: \"\";width: 100%;border-bottom: 1px solid gray;flex-grow: 1;}#sk-container-id-4 div.sk-label:hover label.sk-toggleable__label {background-color: #d4ebff;}#sk-container-id-4 div.sk-serial::before {content: \"\";position: absolute;border-left: 1px solid gray;box-sizing: border-box;top: 0;bottom: 0;left: 50%;z-index: 0;}#sk-container-id-4 div.sk-serial {display: flex;flex-direction: column;align-items: center;background-color: white;padding-right: 0.2em;padding-left: 0.2em;position: relative;}#sk-container-id-4 div.sk-item {position: relative;z-index: 1;}#sk-container-id-4 div.sk-parallel {display: flex;align-items: stretch;justify-content: center;background-color: white;position: relative;}#sk-container-id-4 div.sk-item::before, #sk-container-id-4 div.sk-parallel-item::before {content: \"\";position: absolute;border-left: 1px solid gray;box-sizing: border-box;top: 0;bottom: 0;left: 50%;z-index: -1;}#sk-container-id-4 div.sk-parallel-item {display: flex;flex-direction: column;z-index: 1;position: relative;background-color: white;}#sk-container-id-4 div.sk-parallel-item:first-child::after {align-self: flex-end;width: 50%;}#sk-container-id-4 div.sk-parallel-item:last-child::after {align-self: flex-start;width: 50%;}#sk-container-id-4 div.sk-parallel-item:only-child::after {width: 0;}#sk-container-id-4 div.sk-dashed-wrapped {border: 1px dashed gray;margin: 0 0.4em 0.5em 0.4em;box-sizing: border-box;padding-bottom: 0.4em;background-color: white;}#sk-container-id-4 div.sk-label label {font-family: monospace;font-weight: bold;display: inline-block;line-height: 1.2em;}#sk-container-id-4 div.sk-label-container {text-align: center;}#sk-container-id-4 div.sk-container {/* jupyter's `normalize.less` sets `[hidden] { display: none; }` but bootstrap.min.css set `[hidden] { display: none !important; }` so we also need the `!important` here to be able to override the default hidden behavior on the sphinx rendered scikit-learn.org. See: https://github.com/scikit-learn/scikit-learn/issues/21755 */display: inline-block !important;position: relative;}#sk-container-id-4 div.sk-text-repr-fallback {display: none;}</style><div id=\"sk-container-id-4\" class=\"sk-top-container\"><div class=\"sk-text-repr-fallback\"><pre>DecisionTreeRegressor(criterion=&#x27;mse&#x27;, max_depth=2, min_samples_leaf=3,\n",
       "                      min_samples_split=15, random_state=45)</pre><b>In a Jupyter environment, please rerun this cell to show the HTML representation or trust the notebook. <br />On GitHub, the HTML representation is unable to render, please try loading this page with nbviewer.org.</b></div><div class=\"sk-container\" hidden><div class=\"sk-item\"><div class=\"sk-estimator sk-toggleable\"><input class=\"sk-toggleable__control sk-hidden--visually\" id=\"sk-estimator-id-4\" type=\"checkbox\" checked><label for=\"sk-estimator-id-4\" class=\"sk-toggleable__label sk-toggleable__label-arrow\">DecisionTreeRegressor</label><div class=\"sk-toggleable__content\"><pre>DecisionTreeRegressor(criterion=&#x27;mse&#x27;, max_depth=2, min_samples_leaf=3,\n",
       "                      min_samples_split=15, random_state=45)</pre></div></div></div></div></div>"
      ],
      "text/plain": [
       "DecisionTreeRegressor(criterion='mse', max_depth=2, min_samples_leaf=3,\n",
       "                      min_samples_split=15, random_state=45)"
      ]
     },
     "execution_count": 39,
     "metadata": {},
     "output_type": "execute_result"
    }
   ],
   "source": [
    "dt = DecisionTreeRegressor(criterion='mse', max_depth=2, min_samples_leaf=3,\n",
    "                      min_samples_split=15, random_state=45)\n",
    "dt.fit(std_x_tr,y_train)"
   ]
  },
  {
   "cell_type": "code",
   "execution_count": 46,
   "id": "3a836f3c",
   "metadata": {},
   "outputs": [
    {
     "name": "stdout",
     "output_type": "stream",
     "text": [
      "R2 Score Training: 0.014855293025734406\n",
      "MAE Training: 12.240614169275293\n"
     ]
    }
   ],
   "source": [
    "y_pred = dt.predict(std_x_tr)\n",
    "print(\"R2 Score Training:\",r2_score(y_train,y_pred))\n",
    "print(\"MAE Training:\",mean_absolute_error(y_train,y_pred))"
   ]
  },
  {
   "cell_type": "code",
   "execution_count": 47,
   "id": "ab2d1773",
   "metadata": {},
   "outputs": [
    {
     "name": "stdout",
     "output_type": "stream",
     "text": [
      "R2 Score Testing: 0.013362167970447647\n",
      "MAE Testing: 12.436670773211238\n"
     ]
    }
   ],
   "source": [
    "y_pred1 = dt.predict(std_x_te)\n",
    "print(\"R2 Score Testing:\",r2_score(y_test,y_pred1))\n",
    "print(\"MAE Testing:\",mean_absolute_error(y_test,y_pred1))"
   ]
  },
  {
   "cell_type": "markdown",
   "id": "1f21f4be",
   "metadata": {},
   "source": [
    "###### Pruning for Decision Tree Model"
   ]
  },
  {
   "cell_type": "code",
   "execution_count": 42,
   "id": "bc8b2b11",
   "metadata": {},
   "outputs": [
    {
     "data": {
      "text/html": [
       "<style>#sk-container-id-5 {color: black;background-color: white;}#sk-container-id-5 pre{padding: 0;}#sk-container-id-5 div.sk-toggleable {background-color: white;}#sk-container-id-5 label.sk-toggleable__label {cursor: pointer;display: block;width: 100%;margin-bottom: 0;padding: 0.3em;box-sizing: border-box;text-align: center;}#sk-container-id-5 label.sk-toggleable__label-arrow:before {content: \"▸\";float: left;margin-right: 0.25em;color: #696969;}#sk-container-id-5 label.sk-toggleable__label-arrow:hover:before {color: black;}#sk-container-id-5 div.sk-estimator:hover label.sk-toggleable__label-arrow:before {color: black;}#sk-container-id-5 div.sk-toggleable__content {max-height: 0;max-width: 0;overflow: hidden;text-align: left;background-color: #f0f8ff;}#sk-container-id-5 div.sk-toggleable__content pre {margin: 0.2em;color: black;border-radius: 0.25em;background-color: #f0f8ff;}#sk-container-id-5 input.sk-toggleable__control:checked~div.sk-toggleable__content {max-height: 200px;max-width: 100%;overflow: auto;}#sk-container-id-5 input.sk-toggleable__control:checked~label.sk-toggleable__label-arrow:before {content: \"▾\";}#sk-container-id-5 div.sk-estimator input.sk-toggleable__control:checked~label.sk-toggleable__label {background-color: #d4ebff;}#sk-container-id-5 div.sk-label input.sk-toggleable__control:checked~label.sk-toggleable__label {background-color: #d4ebff;}#sk-container-id-5 input.sk-hidden--visually {border: 0;clip: rect(1px 1px 1px 1px);clip: rect(1px, 1px, 1px, 1px);height: 1px;margin: -1px;overflow: hidden;padding: 0;position: absolute;width: 1px;}#sk-container-id-5 div.sk-estimator {font-family: monospace;background-color: #f0f8ff;border: 1px dotted black;border-radius: 0.25em;box-sizing: border-box;margin-bottom: 0.5em;}#sk-container-id-5 div.sk-estimator:hover {background-color: #d4ebff;}#sk-container-id-5 div.sk-parallel-item::after {content: \"\";width: 100%;border-bottom: 1px solid gray;flex-grow: 1;}#sk-container-id-5 div.sk-label:hover label.sk-toggleable__label {background-color: #d4ebff;}#sk-container-id-5 div.sk-serial::before {content: \"\";position: absolute;border-left: 1px solid gray;box-sizing: border-box;top: 0;bottom: 0;left: 50%;z-index: 0;}#sk-container-id-5 div.sk-serial {display: flex;flex-direction: column;align-items: center;background-color: white;padding-right: 0.2em;padding-left: 0.2em;position: relative;}#sk-container-id-5 div.sk-item {position: relative;z-index: 1;}#sk-container-id-5 div.sk-parallel {display: flex;align-items: stretch;justify-content: center;background-color: white;position: relative;}#sk-container-id-5 div.sk-item::before, #sk-container-id-5 div.sk-parallel-item::before {content: \"\";position: absolute;border-left: 1px solid gray;box-sizing: border-box;top: 0;bottom: 0;left: 50%;z-index: -1;}#sk-container-id-5 div.sk-parallel-item {display: flex;flex-direction: column;z-index: 1;position: relative;background-color: white;}#sk-container-id-5 div.sk-parallel-item:first-child::after {align-self: flex-end;width: 50%;}#sk-container-id-5 div.sk-parallel-item:last-child::after {align-self: flex-start;width: 50%;}#sk-container-id-5 div.sk-parallel-item:only-child::after {width: 0;}#sk-container-id-5 div.sk-dashed-wrapped {border: 1px dashed gray;margin: 0 0.4em 0.5em 0.4em;box-sizing: border-box;padding-bottom: 0.4em;background-color: white;}#sk-container-id-5 div.sk-label label {font-family: monospace;font-weight: bold;display: inline-block;line-height: 1.2em;}#sk-container-id-5 div.sk-label-container {text-align: center;}#sk-container-id-5 div.sk-container {/* jupyter's `normalize.less` sets `[hidden] { display: none; }` but bootstrap.min.css set `[hidden] { display: none !important; }` so we also need the `!important` here to be able to override the default hidden behavior on the sphinx rendered scikit-learn.org. See: https://github.com/scikit-learn/scikit-learn/issues/21755 */display: inline-block !important;position: relative;}#sk-container-id-5 div.sk-text-repr-fallback {display: none;}</style><div id=\"sk-container-id-5\" class=\"sk-top-container\"><div class=\"sk-text-repr-fallback\"><pre>DecisionTreeRegressor(random_state=45)</pre><b>In a Jupyter environment, please rerun this cell to show the HTML representation or trust the notebook. <br />On GitHub, the HTML representation is unable to render, please try loading this page with nbviewer.org.</b></div><div class=\"sk-container\" hidden><div class=\"sk-item\"><div class=\"sk-estimator sk-toggleable\"><input class=\"sk-toggleable__control sk-hidden--visually\" id=\"sk-estimator-id-5\" type=\"checkbox\" checked><label for=\"sk-estimator-id-5\" class=\"sk-toggleable__label sk-toggleable__label-arrow\">DecisionTreeRegressor</label><div class=\"sk-toggleable__content\"><pre>DecisionTreeRegressor(random_state=45)</pre></div></div></div></div></div>"
      ],
      "text/plain": [
       "DecisionTreeRegressor(random_state=45)"
      ]
     },
     "execution_count": 42,
     "metadata": {},
     "output_type": "execute_result"
    }
   ],
   "source": [
    "# pre pruning\n",
    "dt_1 = DecisionTreeRegressor(random_state=45,ccp_alpha=0.0)\n",
    "dt_1.fit(std_x_tr,y_train)"
   ]
  },
  {
   "cell_type": "code",
   "execution_count": 43,
   "id": "0a810dd7",
   "metadata": {},
   "outputs": [],
   "source": [
    "#post pruning\n",
    "dictt = dt_1.cost_complexity_pruning_path(std_x_tr,y_train)\n",
    "ccp_alphas = dictt[\"ccp_alphas\"]\n",
    "train_accuracy_list = []\n",
    "test_accuracy_list = []\n",
    "for ccp_val in ccp_alphas:\n",
    "    if ccp_val > 0:\n",
    "        dt_2 = DecisionTreeRegressor(random_state = 42,ccp_alpha = ccp_val)\n",
    "        dt_2.fit(std_x_tr,y_train)\n",
    "        yp1 = dt_2.predict(std_x_tr)\n",
    "        yp2 = dt_2.predict(std_x_te)\n",
    "        train_accuracy_list.append(r2_score(y_train,yp1))\n",
    "        test_accuracy_list.append(r2_score(y_test,yp2))"
   ]
  },
  {
   "cell_type": "code",
   "execution_count": 44,
   "id": "9e45191f",
   "metadata": {},
   "outputs": [
    {
     "name": "stdout",
     "output_type": "stream",
     "text": [
      "at the 1.148647820890659 ccp_alpha value, \n",
      "we will get 0.011362914539539859 training accuracy \n",
      "and 0.007164699889404602 testing accuracy\n",
      "##################################################\n"
     ]
    }
   ],
   "source": [
    "index = np.where(test_accuracy_list == np.max(test_accuracy_list))\n",
    "for i in index[0]:\n",
    "    print(f\"at the {ccp_alphas[i]} ccp_alpha value, \\nwe will get {train_accuracy_list[i]} training accuracy \\nand {test_accuracy_list[i]} testing accuracy\")\n",
    "    print(\"#\"*50)"
   ]
  },
  {
   "cell_type": "markdown",
   "id": "8dd39500",
   "metadata": {},
   "source": [
    "###### Hyper Parameter Tuning for Random Forest Model"
   ]
  },
  {
   "cell_type": "code",
   "execution_count": 48,
   "id": "b620482f",
   "metadata": {},
   "outputs": [
    {
     "data": {
      "text/html": [
       "<style>#sk-container-id-6 {color: black;background-color: white;}#sk-container-id-6 pre{padding: 0;}#sk-container-id-6 div.sk-toggleable {background-color: white;}#sk-container-id-6 label.sk-toggleable__label {cursor: pointer;display: block;width: 100%;margin-bottom: 0;padding: 0.3em;box-sizing: border-box;text-align: center;}#sk-container-id-6 label.sk-toggleable__label-arrow:before {content: \"▸\";float: left;margin-right: 0.25em;color: #696969;}#sk-container-id-6 label.sk-toggleable__label-arrow:hover:before {color: black;}#sk-container-id-6 div.sk-estimator:hover label.sk-toggleable__label-arrow:before {color: black;}#sk-container-id-6 div.sk-toggleable__content {max-height: 0;max-width: 0;overflow: hidden;text-align: left;background-color: #f0f8ff;}#sk-container-id-6 div.sk-toggleable__content pre {margin: 0.2em;color: black;border-radius: 0.25em;background-color: #f0f8ff;}#sk-container-id-6 input.sk-toggleable__control:checked~div.sk-toggleable__content {max-height: 200px;max-width: 100%;overflow: auto;}#sk-container-id-6 input.sk-toggleable__control:checked~label.sk-toggleable__label-arrow:before {content: \"▾\";}#sk-container-id-6 div.sk-estimator input.sk-toggleable__control:checked~label.sk-toggleable__label {background-color: #d4ebff;}#sk-container-id-6 div.sk-label input.sk-toggleable__control:checked~label.sk-toggleable__label {background-color: #d4ebff;}#sk-container-id-6 input.sk-hidden--visually {border: 0;clip: rect(1px 1px 1px 1px);clip: rect(1px, 1px, 1px, 1px);height: 1px;margin: -1px;overflow: hidden;padding: 0;position: absolute;width: 1px;}#sk-container-id-6 div.sk-estimator {font-family: monospace;background-color: #f0f8ff;border: 1px dotted black;border-radius: 0.25em;box-sizing: border-box;margin-bottom: 0.5em;}#sk-container-id-6 div.sk-estimator:hover {background-color: #d4ebff;}#sk-container-id-6 div.sk-parallel-item::after {content: \"\";width: 100%;border-bottom: 1px solid gray;flex-grow: 1;}#sk-container-id-6 div.sk-label:hover label.sk-toggleable__label {background-color: #d4ebff;}#sk-container-id-6 div.sk-serial::before {content: \"\";position: absolute;border-left: 1px solid gray;box-sizing: border-box;top: 0;bottom: 0;left: 50%;z-index: 0;}#sk-container-id-6 div.sk-serial {display: flex;flex-direction: column;align-items: center;background-color: white;padding-right: 0.2em;padding-left: 0.2em;position: relative;}#sk-container-id-6 div.sk-item {position: relative;z-index: 1;}#sk-container-id-6 div.sk-parallel {display: flex;align-items: stretch;justify-content: center;background-color: white;position: relative;}#sk-container-id-6 div.sk-item::before, #sk-container-id-6 div.sk-parallel-item::before {content: \"\";position: absolute;border-left: 1px solid gray;box-sizing: border-box;top: 0;bottom: 0;left: 50%;z-index: -1;}#sk-container-id-6 div.sk-parallel-item {display: flex;flex-direction: column;z-index: 1;position: relative;background-color: white;}#sk-container-id-6 div.sk-parallel-item:first-child::after {align-self: flex-end;width: 50%;}#sk-container-id-6 div.sk-parallel-item:last-child::after {align-self: flex-start;width: 50%;}#sk-container-id-6 div.sk-parallel-item:only-child::after {width: 0;}#sk-container-id-6 div.sk-dashed-wrapped {border: 1px dashed gray;margin: 0 0.4em 0.5em 0.4em;box-sizing: border-box;padding-bottom: 0.4em;background-color: white;}#sk-container-id-6 div.sk-label label {font-family: monospace;font-weight: bold;display: inline-block;line-height: 1.2em;}#sk-container-id-6 div.sk-label-container {text-align: center;}#sk-container-id-6 div.sk-container {/* jupyter's `normalize.less` sets `[hidden] { display: none; }` but bootstrap.min.css set `[hidden] { display: none !important; }` so we also need the `!important` here to be able to override the default hidden behavior on the sphinx rendered scikit-learn.org. See: https://github.com/scikit-learn/scikit-learn/issues/21755 */display: inline-block !important;position: relative;}#sk-container-id-6 div.sk-text-repr-fallback {display: none;}</style><div id=\"sk-container-id-6\" class=\"sk-top-container\"><div class=\"sk-text-repr-fallback\"><pre>RandomForestRegressor(criterion=&#x27;mse&#x27;, max_depth=4, min_samples_leaf=7,\n",
       "                      min_samples_split=9, n_estimators=166, random_state=45)</pre><b>In a Jupyter environment, please rerun this cell to show the HTML representation or trust the notebook. <br />On GitHub, the HTML representation is unable to render, please try loading this page with nbviewer.org.</b></div><div class=\"sk-container\" hidden><div class=\"sk-item\"><div class=\"sk-estimator sk-toggleable\"><input class=\"sk-toggleable__control sk-hidden--visually\" id=\"sk-estimator-id-6\" type=\"checkbox\" checked><label for=\"sk-estimator-id-6\" class=\"sk-toggleable__label sk-toggleable__label-arrow\">RandomForestRegressor</label><div class=\"sk-toggleable__content\"><pre>RandomForestRegressor(criterion=&#x27;mse&#x27;, max_depth=4, min_samples_leaf=7,\n",
       "                      min_samples_split=9, n_estimators=166, random_state=45)</pre></div></div></div></div></div>"
      ],
      "text/plain": [
       "RandomForestRegressor(criterion='mse', max_depth=4, min_samples_leaf=7,\n",
       "                      min_samples_split=9, n_estimators=166, random_state=45)"
      ]
     },
     "execution_count": 48,
     "metadata": {},
     "output_type": "execute_result"
    }
   ],
   "source": [
    "model = RandomForestRegressor()\n",
    "param = {\"criterion\":[\"mse\",\"mae\"], \"max_depth\": np.arange(2,30),\n",
    "         \"min_samples_split\": np.arange(2,20), \"min_samples_leaf\": np.arange(1,10),\n",
    "         \"random_state\": [42,43,44,45],\"n_estimators\":np.arange(10,500)}\n",
    "grscv = RandomizedSearchCV(model,param,cv=5)\n",
    "grscv.fit(std_x_tr,y_train)\n",
    "grscv.best_estimator_"
   ]
  },
  {
   "cell_type": "code",
   "execution_count": 49,
   "id": "fcd7166e",
   "metadata": {},
   "outputs": [
    {
     "data": {
      "text/html": [
       "<style>#sk-container-id-7 {color: black;background-color: white;}#sk-container-id-7 pre{padding: 0;}#sk-container-id-7 div.sk-toggleable {background-color: white;}#sk-container-id-7 label.sk-toggleable__label {cursor: pointer;display: block;width: 100%;margin-bottom: 0;padding: 0.3em;box-sizing: border-box;text-align: center;}#sk-container-id-7 label.sk-toggleable__label-arrow:before {content: \"▸\";float: left;margin-right: 0.25em;color: #696969;}#sk-container-id-7 label.sk-toggleable__label-arrow:hover:before {color: black;}#sk-container-id-7 div.sk-estimator:hover label.sk-toggleable__label-arrow:before {color: black;}#sk-container-id-7 div.sk-toggleable__content {max-height: 0;max-width: 0;overflow: hidden;text-align: left;background-color: #f0f8ff;}#sk-container-id-7 div.sk-toggleable__content pre {margin: 0.2em;color: black;border-radius: 0.25em;background-color: #f0f8ff;}#sk-container-id-7 input.sk-toggleable__control:checked~div.sk-toggleable__content {max-height: 200px;max-width: 100%;overflow: auto;}#sk-container-id-7 input.sk-toggleable__control:checked~label.sk-toggleable__label-arrow:before {content: \"▾\";}#sk-container-id-7 div.sk-estimator input.sk-toggleable__control:checked~label.sk-toggleable__label {background-color: #d4ebff;}#sk-container-id-7 div.sk-label input.sk-toggleable__control:checked~label.sk-toggleable__label {background-color: #d4ebff;}#sk-container-id-7 input.sk-hidden--visually {border: 0;clip: rect(1px 1px 1px 1px);clip: rect(1px, 1px, 1px, 1px);height: 1px;margin: -1px;overflow: hidden;padding: 0;position: absolute;width: 1px;}#sk-container-id-7 div.sk-estimator {font-family: monospace;background-color: #f0f8ff;border: 1px dotted black;border-radius: 0.25em;box-sizing: border-box;margin-bottom: 0.5em;}#sk-container-id-7 div.sk-estimator:hover {background-color: #d4ebff;}#sk-container-id-7 div.sk-parallel-item::after {content: \"\";width: 100%;border-bottom: 1px solid gray;flex-grow: 1;}#sk-container-id-7 div.sk-label:hover label.sk-toggleable__label {background-color: #d4ebff;}#sk-container-id-7 div.sk-serial::before {content: \"\";position: absolute;border-left: 1px solid gray;box-sizing: border-box;top: 0;bottom: 0;left: 50%;z-index: 0;}#sk-container-id-7 div.sk-serial {display: flex;flex-direction: column;align-items: center;background-color: white;padding-right: 0.2em;padding-left: 0.2em;position: relative;}#sk-container-id-7 div.sk-item {position: relative;z-index: 1;}#sk-container-id-7 div.sk-parallel {display: flex;align-items: stretch;justify-content: center;background-color: white;position: relative;}#sk-container-id-7 div.sk-item::before, #sk-container-id-7 div.sk-parallel-item::before {content: \"\";position: absolute;border-left: 1px solid gray;box-sizing: border-box;top: 0;bottom: 0;left: 50%;z-index: -1;}#sk-container-id-7 div.sk-parallel-item {display: flex;flex-direction: column;z-index: 1;position: relative;background-color: white;}#sk-container-id-7 div.sk-parallel-item:first-child::after {align-self: flex-end;width: 50%;}#sk-container-id-7 div.sk-parallel-item:last-child::after {align-self: flex-start;width: 50%;}#sk-container-id-7 div.sk-parallel-item:only-child::after {width: 0;}#sk-container-id-7 div.sk-dashed-wrapped {border: 1px dashed gray;margin: 0 0.4em 0.5em 0.4em;box-sizing: border-box;padding-bottom: 0.4em;background-color: white;}#sk-container-id-7 div.sk-label label {font-family: monospace;font-weight: bold;display: inline-block;line-height: 1.2em;}#sk-container-id-7 div.sk-label-container {text-align: center;}#sk-container-id-7 div.sk-container {/* jupyter's `normalize.less` sets `[hidden] { display: none; }` but bootstrap.min.css set `[hidden] { display: none !important; }` so we also need the `!important` here to be able to override the default hidden behavior on the sphinx rendered scikit-learn.org. See: https://github.com/scikit-learn/scikit-learn/issues/21755 */display: inline-block !important;position: relative;}#sk-container-id-7 div.sk-text-repr-fallback {display: none;}</style><div id=\"sk-container-id-7\" class=\"sk-top-container\"><div class=\"sk-text-repr-fallback\"><pre>RandomForestRegressor(criterion=&#x27;mse&#x27;, max_depth=4, min_samples_leaf=7,\n",
       "                      min_samples_split=9, n_estimators=166, random_state=45)</pre><b>In a Jupyter environment, please rerun this cell to show the HTML representation or trust the notebook. <br />On GitHub, the HTML representation is unable to render, please try loading this page with nbviewer.org.</b></div><div class=\"sk-container\" hidden><div class=\"sk-item\"><div class=\"sk-estimator sk-toggleable\"><input class=\"sk-toggleable__control sk-hidden--visually\" id=\"sk-estimator-id-7\" type=\"checkbox\" checked><label for=\"sk-estimator-id-7\" class=\"sk-toggleable__label sk-toggleable__label-arrow\">RandomForestRegressor</label><div class=\"sk-toggleable__content\"><pre>RandomForestRegressor(criterion=&#x27;mse&#x27;, max_depth=4, min_samples_leaf=7,\n",
       "                      min_samples_split=9, n_estimators=166, random_state=45)</pre></div></div></div></div></div>"
      ],
      "text/plain": [
       "RandomForestRegressor(criterion='mse', max_depth=4, min_samples_leaf=7,\n",
       "                      min_samples_split=9, n_estimators=166, random_state=45)"
      ]
     },
     "execution_count": 49,
     "metadata": {},
     "output_type": "execute_result"
    }
   ],
   "source": [
    "rf = RandomForestRegressor(criterion='mse', max_depth=4, min_samples_leaf=7,\n",
    "                      min_samples_split=9, n_estimators=166, random_state=45)\n",
    "rf.fit(std_x_tr,y_train)"
   ]
  },
  {
   "cell_type": "code",
   "execution_count": 50,
   "id": "38d9aaac",
   "metadata": {},
   "outputs": [
    {
     "name": "stdout",
     "output_type": "stream",
     "text": [
      "R2 Score Training: 0.05036267781922432\n",
      "MAE Training: 12.037457655139221\n"
     ]
    }
   ],
   "source": [
    "y_pred = rf.predict(std_x_tr)\n",
    "print(\"R2 Score Training:\",r2_score(y_train,y_pred))\n",
    "print(\"MAE Training:\",mean_absolute_error(y_train,y_pred))"
   ]
  },
  {
   "cell_type": "code",
   "execution_count": 51,
   "id": "5f64de06",
   "metadata": {},
   "outputs": [
    {
     "name": "stdout",
     "output_type": "stream",
     "text": [
      "R2 Score Testing: 0.014350067180177617\n",
      "MAE Testing: 12.449325030752266\n"
     ]
    }
   ],
   "source": [
    "y_pred1 = rf.predict(std_x_te)\n",
    "print(\"R2 Score Testing:\",r2_score(y_test,y_pred1))\n",
    "print(\"MAE Testing:\",mean_absolute_error(y_test,y_pred1))"
   ]
  },
  {
   "cell_type": "code",
   "execution_count": null,
   "id": "f8e2808d",
   "metadata": {},
   "outputs": [],
   "source": [
    "# by doing all the things we can see the goodness of best fit line is not good.\n",
    "# So, we have to ask for more relevent data from the client"
   ]
  },
  {
   "cell_type": "code",
   "execution_count": 54,
   "id": "b079c401",
   "metadata": {},
   "outputs": [
    {
     "data": {
      "text/html": [
       "<div>\n",
       "<style scoped>\n",
       "    .dataframe tbody tr th:only-of-type {\n",
       "        vertical-align: middle;\n",
       "    }\n",
       "\n",
       "    .dataframe tbody tr th {\n",
       "        vertical-align: top;\n",
       "    }\n",
       "\n",
       "    .dataframe thead th {\n",
       "        text-align: right;\n",
       "    }\n",
       "</style>\n",
       "<table border=\"1\" class=\"dataframe\">\n",
       "  <thead>\n",
       "    <tr style=\"text-align: right;\">\n",
       "      <th></th>\n",
       "      <th>age</th>\n",
       "      <th>gender</th>\n",
       "      <th>spo2</th>\n",
       "      <th>pr</th>\n",
       "      <th>c/nc</th>\n",
       "      <th>oxy_flow</th>\n",
       "    </tr>\n",
       "  </thead>\n",
       "  <tbody>\n",
       "    <tr>\n",
       "      <th>95433</th>\n",
       "      <td>79</td>\n",
       "      <td>1</td>\n",
       "      <td>97.0</td>\n",
       "      <td>110.0</td>\n",
       "      <td>1.0</td>\n",
       "      <td>0.0</td>\n",
       "    </tr>\n",
       "    <tr>\n",
       "      <th>4575</th>\n",
       "      <td>17</td>\n",
       "      <td>0</td>\n",
       "      <td>NaN</td>\n",
       "      <td>54.0</td>\n",
       "      <td>1.0</td>\n",
       "      <td>29.0</td>\n",
       "    </tr>\n",
       "    <tr>\n",
       "      <th>124923</th>\n",
       "      <td>17</td>\n",
       "      <td>0</td>\n",
       "      <td>NaN</td>\n",
       "      <td>49.0</td>\n",
       "      <td>1.0</td>\n",
       "      <td>6.0</td>\n",
       "    </tr>\n",
       "    <tr>\n",
       "      <th>64585</th>\n",
       "      <td>41</td>\n",
       "      <td>0</td>\n",
       "      <td>99.0</td>\n",
       "      <td>108.0</td>\n",
       "      <td>1.0</td>\n",
       "      <td>76.0</td>\n",
       "    </tr>\n",
       "  </tbody>\n",
       "</table>\n",
       "</div>"
      ],
      "text/plain": [
       "        age  gender  spo2     pr  c/nc  oxy_flow\n",
       "95433    79       1  97.0  110.0   1.0       0.0\n",
       "4575     17       0   NaN   54.0   1.0      29.0\n",
       "124923   17       0   NaN   49.0   1.0       6.0\n",
       "64585    41       0  99.0  108.0   1.0      76.0"
      ]
     },
     "execution_count": 54,
     "metadata": {},
     "output_type": "execute_result"
    }
   ],
   "source": [
    "df.head(4)"
   ]
  },
  {
   "cell_type": "code",
   "execution_count": 60,
   "id": "16b14afe",
   "metadata": {},
   "outputs": [],
   "source": [
    "# for cheking the model\n",
    "age = 75\n",
    "gender = 1\n",
    "spo2 = 24.0\n",
    "pr = 45.0\n",
    "cnc = 1\n",
    "\n",
    "\n",
    "# __________________________________________________________________________________________________________________\n",
    "#creating an array for testing the user data\n",
    "test_array = np.zeros(std_x_tr.shape[1])\n",
    "column_names = std_x_tr.columns\n",
    "test_array[0] = age\n",
    "test_array[1] = gender\n",
    "test_array[2] = spo2\n",
    "test_array[3] = pr\n",
    "test_array[4] = cnc\n"
   ]
  },
  {
   "cell_type": "code",
   "execution_count": 61,
   "id": "8160e1a6",
   "metadata": {},
   "outputs": [
    {
     "data": {
      "text/plain": [
       "array([[ 1.3435663 ,  1.39997398, -4.37901611, -3.15827859,  0.5115134 ]])"
      ]
     },
     "execution_count": 61,
     "metadata": {},
     "output_type": "execute_result"
    }
   ],
   "source": [
    "#scaling the user data\n",
    "array = std.transform([test_array])\n",
    "array"
   ]
  },
  {
   "cell_type": "code",
   "execution_count": 62,
   "id": "384e1d3f",
   "metadata": {},
   "outputs": [
    {
     "data": {
      "text/plain": [
       "array([17.75884326])"
      ]
     },
     "execution_count": 62,
     "metadata": {},
     "output_type": "execute_result"
    }
   ],
   "source": [
    "# predicting the data with Random forest model\n",
    "rf.predict(array)"
   ]
  },
  {
   "cell_type": "code",
   "execution_count": 63,
   "id": "125267d6",
   "metadata": {},
   "outputs": [
    {
     "data": {
      "text/plain": [
       "array([18.69047619])"
      ]
     },
     "execution_count": 63,
     "metadata": {},
     "output_type": "execute_result"
    }
   ],
   "source": [
    "#predicting the data with decision tree model\n",
    "dt.predict(array)"
   ]
  },
  {
   "cell_type": "code",
   "execution_count": 70,
   "id": "7488a602",
   "metadata": {},
   "outputs": [
    {
     "data": {
      "text/plain": [
       "{'columns': ['age', 'gender', 'spo2', 'pr', 'c/nc']}"
      ]
     },
     "execution_count": 70,
     "metadata": {},
     "output_type": "execute_result"
    }
   ],
   "source": [
    "jsondata = {\"columns\":std_x_tr.columns.tolist()}\n",
    "jsondata"
   ]
  },
  {
   "cell_type": "code",
   "execution_count": 72,
   "id": "71733212",
   "metadata": {},
   "outputs": [],
   "source": [
    "#exporting the model for flask operations\n",
    "with open(\"Model.pkl\", \"wb\") as f:\n",
    "    pickle.dump(rf,f)\n",
    "with open(\"Scaling.pkl\", \"wb\") as f:\n",
    "    pickle.dump(std,f)\n",
    "with open(\"json_data.json\", \"w\") as f:\n",
    "    json.dump(jsondata, f)"
   ]
  },
  {
   "cell_type": "code",
   "execution_count": null,
   "id": "cb6c2c28",
   "metadata": {},
   "outputs": [],
   "source": []
  }
 ],
 "metadata": {
  "kernelspec": {
   "display_name": "base",
   "language": "python",
   "name": "python3"
  },
  "language_info": {
   "codemirror_mode": {
    "name": "ipython",
    "version": 3
   },
   "file_extension": ".py",
   "mimetype": "text/x-python",
   "name": "python",
   "nbconvert_exporter": "python",
   "pygments_lexer": "ipython3",
   "version": "3.9.13"
  },
  "vscode": {
   "interpreter": {
    "hash": "ad2bdc8ecc057115af97d19610ffacc2b4e99fae6737bb82f5d7fb13d2f2c186"
   }
  }
 },
 "nbformat": 4,
 "nbformat_minor": 5
}
